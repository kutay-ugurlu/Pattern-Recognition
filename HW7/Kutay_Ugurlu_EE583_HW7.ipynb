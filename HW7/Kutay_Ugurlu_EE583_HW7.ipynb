{
  "nbformat": 4,
  "nbformat_minor": 0,
  "metadata": {
    "colab": {
      "name": "Kutay Ugurlu EE583 HW7",
      "provenance": [],
      "collapsed_sections": []
    },
    "kernelspec": {
      "name": "python3",
      "display_name": "Python 3"
    },
    "accelerator": "GPU"
  },
  "cells": [
    {
      "cell_type": "markdown",
      "source": [
        "# SETUP"
      ],
      "metadata": {
        "id": "PZVj0F6h6ZEz"
      }
    },
    {
      "cell_type": "code",
      "metadata": {
        "id": "ip_QvpbgYGW4"
      },
      "source": [
        "import torch\n",
        "import numpy as np\n",
        "import torchvision.datasets as datasets\n",
        "import torchvision.transforms as transforms\n",
        "import matplotlib.pyplot as plt\n",
        "from torchsummary import summary"
      ],
      "execution_count": null,
      "outputs": []
    },
    {
      "cell_type": "code",
      "source": [
        "from google.colab import drive\n",
        "drive.mount('/content/drive')"
      ],
      "metadata": {
        "id": "eyU35uPMd_EA",
        "colab": {
          "base_uri": "https://localhost:8080/"
        },
        "outputId": "d605903a-0674-4fd0-dd20-0013fa1609e2"
      },
      "execution_count": null,
      "outputs": [
        {
          "output_type": "stream",
          "name": "stdout",
          "text": [
            "Mounted at /content/drive\n"
          ]
        }
      ]
    },
    {
      "cell_type": "code",
      "metadata": {
        "id": "pWZV7kvz6fjA",
        "colab": {
          "base_uri": "https://localhost:8080/"
        },
        "outputId": "fc4d1dfe-25c0-4d0f-be99-25b94e4cd294"
      },
      "source": [
        "#DEFINE YOUR DEVICE\n",
        "device = torch.device('cuda:0' if torch.cuda.is_available() else 'cpu')\n",
        "\n",
        "print(device) #if cpu, go Runtime-> Change runtime type-> Hardware accelerator GPU -> Save -> Redo previous steps"
      ],
      "execution_count": null,
      "outputs": [
        {
          "output_type": "stream",
          "name": "stdout",
          "text": [
            "cuda:0\n"
          ]
        }
      ]
    },
    {
      "cell_type": "code",
      "metadata": {
        "id": "0jj3xUVYLZo1"
      },
      "source": [
        "#DOWNLOAD CIFAR-10 DATASET\n",
        "train_data = datasets.CIFAR10('./data', train = True, download = True, transform = transforms.ToTensor())\n",
        "\n",
        "test_data = datasets.CIFAR10('./data', train = False, transform = transforms.ToTensor())"
      ],
      "execution_count": null,
      "outputs": []
    },
    {
      "cell_type": "code",
      "metadata": {
        "id": "bnFZEng8lg4a"
      },
      "source": [
        "#DEFINE DATA GENERATOR\n",
        "batch_size = 100\n",
        "train_generator = torch.utils.data.DataLoader(train_data, batch_size = batch_size, shuffle = True)\n",
        "test_generator = torch.utils.data.DataLoader(test_data, batch_size = batch_size, shuffle = False)"
      ],
      "execution_count": null,
      "outputs": []
    },
    {
      "cell_type": "markdown",
      "source": [
        "# QUESTIONS "
      ],
      "metadata": {
        "id": "oySPrJVW6hG5"
      }
    },
    {
      "cell_type": "markdown",
      "source": [
        "## Q1"
      ],
      "metadata": {
        "id": "NLvUL2Ok6nAM"
      }
    },
    {
      "cell_type": "code",
      "metadata": {
        "id": "Ptm-hTFZ8BI-",
        "cellView": "both"
      },
      "source": [
        "#DEFINE NEURAL NETWORK MODEL\n",
        "class CNNQ1(torch.nn.Module):\n",
        "  def __init__(self):\n",
        "    super(CNNQ1, self).__init__()\n",
        "    self.conv1 = torch.nn.Conv2d(3, 8, kernel_size = 4, stride = 1)\n",
        "    self.conv2 = torch.nn.Conv2d(8, 16, kernel_size = 4, stride = 1)\n",
        "    self.mpool = torch.nn.MaxPool2d(2)\n",
        "    self.fc1 = torch.nn.Linear(400, 256)\n",
        "    self.fc2 = torch.nn.Linear(256, 64)    \n",
        "    self.fc3 = torch.nn.Linear(64, 10)\n",
        "    self.relu = torch.nn.ReLU()\n",
        "    self.sigmoid = torch.nn.Sigmoid()\n",
        "    self.drop = torch.nn.Dropout(0.1)\n",
        "  def forward(self, x):\n",
        "    hidden = self.mpool(self.relu(self.conv1(x)))\n",
        "    hidden = self.mpool(self.relu(self.conv2(hidden)))\n",
        "    hidden = hidden.view(-1,400)\n",
        "    hidden = self.relu(self.fc1(hidden))\n",
        "    hidden = self.relu(self.fc2(hidden))\n",
        "    output = self.fc3(hidden)\n",
        "    return output"
      ],
      "execution_count": null,
      "outputs": []
    },
    {
      "cell_type": "code",
      "metadata": {
        "id": "kD0yeYzVIHwT",
        "colab": {
          "base_uri": "https://localhost:8080/"
        },
        "outputId": "49ac3beb-132f-4f56-be28-a5cf5fa7209f"
      },
      "source": [
        "#CREATE MODEL\n",
        "model = CNNQ1()\n",
        "model.to(device)\n",
        "\n",
        "#DEFINE LOSS FUNCTION AND OPTIMIZER\n",
        "learning_rate = 0.001\n",
        "\n",
        "loss_fun = torch.nn.CrossEntropyLoss()\n",
        "optimizer = torch.optim.Adam(model.parameters(), lr = learning_rate)\n",
        "\n",
        "# SUMMARY\n",
        "summary(model,(3,32,32))\n"
      ],
      "execution_count": null,
      "outputs": [
        {
          "output_type": "stream",
          "name": "stdout",
          "text": [
            "----------------------------------------------------------------\n",
            "        Layer (type)               Output Shape         Param #\n",
            "================================================================\n",
            "            Conv2d-1            [-1, 8, 29, 29]             392\n",
            "              ReLU-2            [-1, 8, 29, 29]               0\n",
            "         MaxPool2d-3            [-1, 8, 14, 14]               0\n",
            "            Conv2d-4           [-1, 16, 11, 11]           2,064\n",
            "              ReLU-5           [-1, 16, 11, 11]               0\n",
            "         MaxPool2d-6             [-1, 16, 5, 5]               0\n",
            "            Linear-7                  [-1, 256]         102,656\n",
            "              ReLU-8                  [-1, 256]               0\n",
            "            Linear-9                   [-1, 64]          16,448\n",
            "             ReLU-10                   [-1, 64]               0\n",
            "           Linear-11                   [-1, 10]             650\n",
            "================================================================\n",
            "Total params: 122,210\n",
            "Trainable params: 122,210\n",
            "Non-trainable params: 0\n",
            "----------------------------------------------------------------\n",
            "Input size (MB): 0.01\n",
            "Forward/backward pass size (MB): 0.15\n",
            "Params size (MB): 0.47\n",
            "Estimated Total Size (MB): 0.63\n",
            "----------------------------------------------------------------\n"
          ]
        }
      ]
    },
    {
      "cell_type": "code",
      "metadata": {
        "id": "DEuX6ORhJL6Z",
        "colab": {
          "base_uri": "https://localhost:8080/"
        },
        "outputId": "c5e01b9e-9827-48e2-853b-2777c57929af"
      },
      "source": [
        "#TRAIN THE MODEL\n",
        "model.train()\n",
        "epoch = 10\n",
        "\n",
        "num_of_batch=np.int(len(train_generator.dataset)/batch_size)\n",
        "\n",
        "loss_values = np.zeros(epoch*num_of_batch)\n",
        "for i in range(epoch):\n",
        "  for batch_idx, (x_train, y_train) in enumerate(train_generator):\n",
        "    x_train, y_train = x_train.to(device), y_train.to(device)\n",
        "    optimizer.zero_grad()\n",
        "    y_pred = model(x_train)\n",
        "    loss = loss_fun(y_pred, y_train)\n",
        "    loss_values[num_of_batch*i+batch_idx] = loss.item()\n",
        "    loss.backward()\n",
        "    optimizer.step()\n",
        "    if (batch_idx+1) % batch_size == 0:\n",
        "        print('Epoch: {}/{} [Batch: {}/{} ({:.0f}%)]\\tLoss: {:.6f}'.format(\n",
        "            i+1, epoch, (batch_idx+1) * len(x_train), len(train_generator.dataset),\n",
        "            100. * (batch_idx+1) / len(train_generator), loss.item()))    "
      ],
      "execution_count": null,
      "outputs": [
        {
          "output_type": "stream",
          "name": "stdout",
          "text": [
            "Epoch: 1/10 [Batch: 10000/50000 (20%)]\tLoss: 2.008565\n",
            "Epoch: 1/10 [Batch: 20000/50000 (40%)]\tLoss: 1.707132\n",
            "Epoch: 1/10 [Batch: 30000/50000 (60%)]\tLoss: 1.772573\n",
            "Epoch: 1/10 [Batch: 40000/50000 (80%)]\tLoss: 1.631163\n",
            "Epoch: 1/10 [Batch: 50000/50000 (100%)]\tLoss: 1.389537\n",
            "Epoch: 2/10 [Batch: 10000/50000 (20%)]\tLoss: 1.421544\n",
            "Epoch: 2/10 [Batch: 20000/50000 (40%)]\tLoss: 1.322189\n",
            "Epoch: 2/10 [Batch: 30000/50000 (60%)]\tLoss: 1.521783\n",
            "Epoch: 2/10 [Batch: 40000/50000 (80%)]\tLoss: 1.428849\n",
            "Epoch: 2/10 [Batch: 50000/50000 (100%)]\tLoss: 1.630560\n",
            "Epoch: 3/10 [Batch: 10000/50000 (20%)]\tLoss: 1.351266\n",
            "Epoch: 3/10 [Batch: 20000/50000 (40%)]\tLoss: 1.573170\n",
            "Epoch: 3/10 [Batch: 30000/50000 (60%)]\tLoss: 1.297113\n",
            "Epoch: 3/10 [Batch: 40000/50000 (80%)]\tLoss: 1.258028\n",
            "Epoch: 3/10 [Batch: 50000/50000 (100%)]\tLoss: 1.333989\n",
            "Epoch: 4/10 [Batch: 10000/50000 (20%)]\tLoss: 1.322998\n",
            "Epoch: 4/10 [Batch: 20000/50000 (40%)]\tLoss: 1.046606\n",
            "Epoch: 4/10 [Batch: 30000/50000 (60%)]\tLoss: 1.205253\n",
            "Epoch: 4/10 [Batch: 40000/50000 (80%)]\tLoss: 1.333849\n",
            "Epoch: 4/10 [Batch: 50000/50000 (100%)]\tLoss: 1.283796\n",
            "Epoch: 5/10 [Batch: 10000/50000 (20%)]\tLoss: 1.230737\n",
            "Epoch: 5/10 [Batch: 20000/50000 (40%)]\tLoss: 1.080133\n",
            "Epoch: 5/10 [Batch: 30000/50000 (60%)]\tLoss: 1.232069\n",
            "Epoch: 5/10 [Batch: 40000/50000 (80%)]\tLoss: 1.105746\n",
            "Epoch: 5/10 [Batch: 50000/50000 (100%)]\tLoss: 1.262319\n",
            "Epoch: 6/10 [Batch: 10000/50000 (20%)]\tLoss: 1.283407\n",
            "Epoch: 6/10 [Batch: 20000/50000 (40%)]\tLoss: 1.138714\n",
            "Epoch: 6/10 [Batch: 30000/50000 (60%)]\tLoss: 1.239647\n",
            "Epoch: 6/10 [Batch: 40000/50000 (80%)]\tLoss: 0.980552\n",
            "Epoch: 6/10 [Batch: 50000/50000 (100%)]\tLoss: 1.403119\n",
            "Epoch: 7/10 [Batch: 10000/50000 (20%)]\tLoss: 1.114779\n",
            "Epoch: 7/10 [Batch: 20000/50000 (40%)]\tLoss: 1.089277\n",
            "Epoch: 7/10 [Batch: 30000/50000 (60%)]\tLoss: 1.201144\n",
            "Epoch: 7/10 [Batch: 40000/50000 (80%)]\tLoss: 1.393427\n",
            "Epoch: 7/10 [Batch: 50000/50000 (100%)]\tLoss: 1.164613\n",
            "Epoch: 8/10 [Batch: 10000/50000 (20%)]\tLoss: 1.267781\n",
            "Epoch: 8/10 [Batch: 20000/50000 (40%)]\tLoss: 1.099852\n",
            "Epoch: 8/10 [Batch: 30000/50000 (60%)]\tLoss: 1.168808\n",
            "Epoch: 8/10 [Batch: 40000/50000 (80%)]\tLoss: 1.133110\n",
            "Epoch: 8/10 [Batch: 50000/50000 (100%)]\tLoss: 0.952967\n",
            "Epoch: 9/10 [Batch: 10000/50000 (20%)]\tLoss: 1.156250\n",
            "Epoch: 9/10 [Batch: 20000/50000 (40%)]\tLoss: 0.927581\n",
            "Epoch: 9/10 [Batch: 30000/50000 (60%)]\tLoss: 1.209802\n",
            "Epoch: 9/10 [Batch: 40000/50000 (80%)]\tLoss: 1.319026\n",
            "Epoch: 9/10 [Batch: 50000/50000 (100%)]\tLoss: 0.907355\n",
            "Epoch: 10/10 [Batch: 10000/50000 (20%)]\tLoss: 1.167614\n",
            "Epoch: 10/10 [Batch: 20000/50000 (40%)]\tLoss: 1.059658\n",
            "Epoch: 10/10 [Batch: 30000/50000 (60%)]\tLoss: 0.972945\n",
            "Epoch: 10/10 [Batch: 40000/50000 (80%)]\tLoss: 1.021400\n",
            "Epoch: 10/10 [Batch: 50000/50000 (100%)]\tLoss: 0.903114\n"
          ]
        }
      ]
    },
    {
      "cell_type": "code",
      "metadata": {
        "id": "hIr5fl-KTWlX",
        "colab": {
          "base_uri": "https://localhost:8080/",
          "height": 295
        },
        "outputId": "42cbd4b4-8805-4030-bcfc-e0a970e189c0"
      },
      "source": [
        "#PLOT THE LEARNING CURVE\n",
        "iterations = np.linspace(0,epoch,num_of_batch*epoch)\n",
        "plt.plot(iterations, loss_values)\n",
        "plt.title('Learning Curve')\n",
        "plt.xlabel('Epoch')\n",
        "plt.ylabel('Loss')\n",
        "plt.grid('on')\n",
        "plt.savefig('drive/MyDrive/583_HW7/Q1.png')"
      ],
      "execution_count": null,
      "outputs": [
        {
          "output_type": "display_data",
          "data": {
            "image/png": "[encoded data removed]",
            "text/plain": [
              "<Figure size 432x288 with 1 Axes>"
            ]
          },
          "metadata": {
            "needs_background": "light"
          }
        }
      ]
    },
    {
      "cell_type": "code",
      "metadata": {
        "id": "nz-XxC-dRwFk",
        "colab": {
          "base_uri": "https://localhost:8080/"
        },
        "outputId": "def3cf86-3a74-409d-a9d9-1bbd359ce0f6"
      },
      "source": [
        "#TEST THE MODEL\n",
        "model.eval()\n",
        "correct=0\n",
        "total=0\n",
        "\n",
        "for x_val, y_val in test_generator:\n",
        "  x_val = x_val.to(device)\n",
        "  y_val = y_val.to(device)\n",
        "\n",
        "  output = model(x_val)\n",
        "  y_pred = output.argmax(dim=1)\n",
        "\n",
        "  for i in range(y_pred.shape[0]):\n",
        "    if y_val[i]==y_pred[i]:\n",
        "      correct += 1\n",
        "    total +=1\n",
        "\n",
        "print('Validation accuracy: %.2f%%' %((100*correct)//(total)))  "
      ],
      "execution_count": null,
      "outputs": [
        {
          "output_type": "stream",
          "name": "stdout",
          "text": [
            "Validation accuracy: 62.00%\n"
          ]
        }
      ]
    },
    {
      "cell_type": "markdown",
      "source": [
        "## Q2\n",
        "### Optimizer changed to SGD."
      ],
      "metadata": {
        "id": "q8xzWaiW7EeC"
      }
    },
    {
      "cell_type": "code",
      "source": [
        "#CREATE MODEL\n",
        "model = CNNQ1()\n",
        "model.to(device)\n",
        "\n",
        "#DEFINE LOSS FUNCTION AND OPTIMIZER\n",
        "learning_rate = 0.01\n",
        "\n",
        "loss_fun = torch.nn.CrossEntropyLoss()\n",
        "optimizer = torch.optim.SGD(model.parameters(), lr = learning_rate, momentum=0.9)\n",
        "\n",
        "# SUMMARY\n",
        "summary(model,(3,32,32))\n"
      ],
      "metadata": {
        "id": "1E89skg568zd",
        "colab": {
          "base_uri": "https://localhost:8080/"
        },
        "outputId": "5b84b5e1-4971-4eaa-94c2-cc6c2809b1d5"
      },
      "execution_count": null,
      "outputs": [
        {
          "output_type": "stream",
          "name": "stdout",
          "text": [
            "----------------------------------------------------------------\n",
            "        Layer (type)               Output Shape         Param #\n",
            "================================================================\n",
            "            Conv2d-1            [-1, 8, 29, 29]             392\n",
            "              ReLU-2            [-1, 8, 29, 29]               0\n",
            "         MaxPool2d-3            [-1, 8, 14, 14]               0\n",
            "            Conv2d-4           [-1, 16, 11, 11]           2,064\n",
            "              ReLU-5           [-1, 16, 11, 11]               0\n",
            "         MaxPool2d-6             [-1, 16, 5, 5]               0\n",
            "            Linear-7                  [-1, 256]         102,656\n",
            "              ReLU-8                  [-1, 256]               0\n",
            "            Linear-9                   [-1, 64]          16,448\n",
            "             ReLU-10                   [-1, 64]               0\n",
            "           Linear-11                   [-1, 10]             650\n",
            "================================================================\n",
            "Total params: 122,210\n",
            "Trainable params: 122,210\n",
            "Non-trainable params: 0\n",
            "----------------------------------------------------------------\n",
            "Input size (MB): 0.01\n",
            "Forward/backward pass size (MB): 0.15\n",
            "Params size (MB): 0.47\n",
            "Estimated Total Size (MB): 0.63\n",
            "----------------------------------------------------------------\n"
          ]
        }
      ]
    },
    {
      "cell_type": "code",
      "source": [
        "#TRAIN THE MODEL\n",
        "model.train()\n",
        "epoch = 10\n",
        "\n",
        "num_of_batch=np.int(len(train_generator.dataset)/batch_size)\n",
        "\n",
        "loss_values = np.zeros(epoch*num_of_batch)\n",
        "for i in range(epoch):\n",
        "\n",
        "  for batch_idx, (x_train, y_train) in enumerate(train_generator):\n",
        "    x_train, y_train = x_train.to(device), y_train.to(device)\n",
        "    optimizer.zero_grad()\n",
        "    y_pred = model(x_train)\n",
        "    loss = loss_fun(y_pred, y_train)\n",
        "    loss_values[num_of_batch*i+batch_idx] = loss.item()\n",
        "    loss.backward()\n",
        "    optimizer.step()\n",
        "    if (batch_idx+1) % batch_size == 0:\n",
        "        print('Epoch: {}/{} [Batch: {}/{} ({:.0f}%)]\\tLoss: {:.6f}'.format(\n",
        "            i+1, epoch, (batch_idx+1) * len(x_train), len(train_generator.dataset),\n",
        "            100. * (batch_idx+1) / len(train_generator), loss.item()))    "
      ],
      "metadata": {
        "id": "xp5j0CNR8TCN",
        "colab": {
          "base_uri": "https://localhost:8080/"
        },
        "outputId": "960af5f7-8afa-45b8-a5ee-dc74cad41746"
      },
      "execution_count": null,
      "outputs": [
        {
          "output_type": "stream",
          "name": "stdout",
          "text": [
            "Epoch: 1/10 [Batch: 10000/50000 (20%)]\tLoss: 0.736044\n",
            "Epoch: 1/10 [Batch: 20000/50000 (40%)]\tLoss: 0.781371\n",
            "Epoch: 1/10 [Batch: 30000/50000 (60%)]\tLoss: 0.696068\n",
            "Epoch: 1/10 [Batch: 40000/50000 (80%)]\tLoss: 0.812954\n",
            "Epoch: 1/10 [Batch: 50000/50000 (100%)]\tLoss: 0.862274\n",
            "Epoch: 2/10 [Batch: 10000/50000 (20%)]\tLoss: 0.966946\n",
            "Epoch: 2/10 [Batch: 20000/50000 (40%)]\tLoss: 0.963485\n",
            "Epoch: 2/10 [Batch: 30000/50000 (60%)]\tLoss: 0.817716\n",
            "Epoch: 2/10 [Batch: 40000/50000 (80%)]\tLoss: 0.972773\n",
            "Epoch: 2/10 [Batch: 50000/50000 (100%)]\tLoss: 0.975334\n",
            "Epoch: 3/10 [Batch: 10000/50000 (20%)]\tLoss: 0.818820\n",
            "Epoch: 3/10 [Batch: 20000/50000 (40%)]\tLoss: 0.746322\n",
            "Epoch: 3/10 [Batch: 30000/50000 (60%)]\tLoss: 0.679832\n",
            "Epoch: 3/10 [Batch: 40000/50000 (80%)]\tLoss: 0.798428\n",
            "Epoch: 3/10 [Batch: 50000/50000 (100%)]\tLoss: 0.838489\n",
            "Epoch: 4/10 [Batch: 10000/50000 (20%)]\tLoss: 0.807739\n",
            "Epoch: 4/10 [Batch: 20000/50000 (40%)]\tLoss: 0.734484\n",
            "Epoch: 4/10 [Batch: 30000/50000 (60%)]\tLoss: 0.553443\n",
            "Epoch: 4/10 [Batch: 40000/50000 (80%)]\tLoss: 0.861763\n",
            "Epoch: 4/10 [Batch: 50000/50000 (100%)]\tLoss: 1.028033\n",
            "Epoch: 5/10 [Batch: 10000/50000 (20%)]\tLoss: 0.700818\n",
            "Epoch: 5/10 [Batch: 20000/50000 (40%)]\tLoss: 0.788175\n",
            "Epoch: 5/10 [Batch: 30000/50000 (60%)]\tLoss: 0.722639\n",
            "Epoch: 5/10 [Batch: 40000/50000 (80%)]\tLoss: 0.818164\n",
            "Epoch: 5/10 [Batch: 50000/50000 (100%)]\tLoss: 0.806038\n",
            "Epoch: 6/10 [Batch: 10000/50000 (20%)]\tLoss: 0.674392\n",
            "Epoch: 6/10 [Batch: 20000/50000 (40%)]\tLoss: 0.644142\n",
            "Epoch: 6/10 [Batch: 30000/50000 (60%)]\tLoss: 0.570559\n",
            "Epoch: 6/10 [Batch: 40000/50000 (80%)]\tLoss: 0.622261\n",
            "Epoch: 6/10 [Batch: 50000/50000 (100%)]\tLoss: 0.609262\n",
            "Epoch: 7/10 [Batch: 10000/50000 (20%)]\tLoss: 0.668045\n",
            "Epoch: 7/10 [Batch: 20000/50000 (40%)]\tLoss: 0.665257\n",
            "Epoch: 7/10 [Batch: 30000/50000 (60%)]\tLoss: 0.586246\n",
            "Epoch: 7/10 [Batch: 40000/50000 (80%)]\tLoss: 0.847288\n",
            "Epoch: 7/10 [Batch: 50000/50000 (100%)]\tLoss: 0.602923\n",
            "Epoch: 8/10 [Batch: 10000/50000 (20%)]\tLoss: 0.470082\n",
            "Epoch: 8/10 [Batch: 20000/50000 (40%)]\tLoss: 0.598713\n",
            "Epoch: 8/10 [Batch: 30000/50000 (60%)]\tLoss: 0.573132\n",
            "Epoch: 8/10 [Batch: 40000/50000 (80%)]\tLoss: 0.541481\n",
            "Epoch: 8/10 [Batch: 50000/50000 (100%)]\tLoss: 0.550917\n",
            "Epoch: 9/10 [Batch: 10000/50000 (20%)]\tLoss: 0.549263\n",
            "Epoch: 9/10 [Batch: 20000/50000 (40%)]\tLoss: 0.645425\n",
            "Epoch: 9/10 [Batch: 30000/50000 (60%)]\tLoss: 0.650120\n",
            "Epoch: 9/10 [Batch: 40000/50000 (80%)]\tLoss: 0.588912\n",
            "Epoch: 9/10 [Batch: 50000/50000 (100%)]\tLoss: 0.655012\n",
            "Epoch: 10/10 [Batch: 10000/50000 (20%)]\tLoss: 0.501349\n",
            "Epoch: 10/10 [Batch: 20000/50000 (40%)]\tLoss: 0.421503\n",
            "Epoch: 10/10 [Batch: 30000/50000 (60%)]\tLoss: 0.499366\n",
            "Epoch: 10/10 [Batch: 40000/50000 (80%)]\tLoss: 0.637380\n",
            "Epoch: 10/10 [Batch: 50000/50000 (100%)]\tLoss: 0.617409\n"
          ]
        }
      ]
    },
    {
      "cell_type": "code",
      "source": [
        "#PLOT THE LEARNING CURVE\n",
        "iterations = np.linspace(0,epoch,num_of_batch*epoch)\n",
        "plt.plot(iterations, loss_values)\n",
        "plt.title('Learning Curve')\n",
        "plt.xlabel('Epoch')\n",
        "plt.ylabel('Loss')\n",
        "plt.grid('on')\n",
        "plt.savefig('drive/MyDrive/583_HW7/Q2.png')"
      ],
      "metadata": {
        "id": "Pdjbli208VJ6",
        "colab": {
          "base_uri": "https://localhost:8080/",
          "height": 295
        },
        "outputId": "18fe6449-6907-4d2c-e34e-56a864094580"
      },
      "execution_count": null,
      "outputs": [
        {
          "output_type": "display_data",
          "data": {
            "image/png": "[encoded data removed]",
            "text/plain": [
              "<Figure size 432x288 with 1 Axes>"
            ]
          },
          "metadata": {
            "needs_background": "light"
          }
        }
      ]
    },
    {
      "cell_type": "code",
      "source": [
        "#TEST THE MODEL\n",
        "model.eval()\n",
        "correct=0\n",
        "total=0\n",
        "\n",
        "for x_val, y_val in test_generator:\n",
        "  x_val = x_val.to(device)\n",
        "  y_val = y_val.to(device)\n",
        "\n",
        "  output = model(x_val)\n",
        "  y_pred = output.argmax(dim=1)\n",
        "\n",
        "  for i in range(y_pred.shape[0]):\n",
        "    if y_val[i]==y_pred[i]:\n",
        "      correct += 1\n",
        "    total +=1\n",
        "\n",
        "print('Validation accuracy: %.2f%%' %((100*correct)//(total)))  "
      ],
      "metadata": {
        "id": "Tg3DLUDD8Wtc",
        "colab": {
          "base_uri": "https://localhost:8080/"
        },
        "outputId": "30f7f279-45bf-40c0-ec8d-78c5a3b66705"
      },
      "execution_count": null,
      "outputs": [
        {
          "output_type": "stream",
          "name": "stdout",
          "text": [
            "Validation accuracy: 61.00%\n"
          ]
        }
      ]
    },
    {
      "cell_type": "markdown",
      "source": [
        "**With LR = $0.01$ and Momentum = $0.9$, the validation accuracy was lower than that of Adam's. Hence, proceed with Adam.**\n",
        "\n",
        "\n"
      ],
      "metadata": {
        "id": "VN4vnwQ5_7Fs"
      }
    },
    {
      "cell_type": "markdown",
      "source": [
        "## Q3 \n",
        "### Activation changed to sigmoid."
      ],
      "metadata": {
        "id": "AgGdqTP_AQFb"
      }
    },
    {
      "cell_type": "code",
      "source": [
        "#DEFINE NEURAL NETWORK MODEL\n",
        "class CNNQ3(torch.nn.Module):\n",
        "  def __init__(self):\n",
        "    super(CNNQ3, self).__init__()\n",
        "    self.conv1 = torch.nn.Conv2d(3, 8, kernel_size = 4, stride = 1)\n",
        "    self.conv2 = torch.nn.Conv2d(8, 16, kernel_size = 4, stride = 1)\n",
        "    self.mpool = torch.nn.MaxPool2d(2)\n",
        "    self.fc1 = torch.nn.Linear(400, 256)\n",
        "    self.fc2 = torch.nn.Linear(256, 64)    \n",
        "    self.fc3 = torch.nn.Linear(64, 10)\n",
        "    self.relu = torch.nn.ReLU()\n",
        "    self.sigmoid = torch.nn.Sigmoid()\n",
        "    self.drop = torch.nn.Dropout(0.1)\n",
        "  def forward(self, x):\n",
        "    hidden = self.mpool(self.sigmoid(self.conv1(x)))\n",
        "    hidden = self.mpool(self.sigmoid(self.conv2(hidden)))\n",
        "    hidden = hidden.view(-1,400)\n",
        "    hidden = self.sigmoid(self.fc1(hidden))\n",
        "    hidden = self.sigmoid(self.fc2(hidden))\n",
        "    output = self.fc3(hidden)\n",
        "    return output"
      ],
      "metadata": {
        "id": "o-su4oIq_gky"
      },
      "execution_count": null,
      "outputs": []
    },
    {
      "cell_type": "code",
      "source": [
        "#CREATE MODEL\n",
        "model = CNNQ3()\n",
        "model.to(device)\n",
        "\n",
        "#DEFINE LOSS FUNCTION AND OPTIMIZER\n",
        "learning_rate = 0.001\n",
        "\n",
        "loss_fun = torch.nn.CrossEntropyLoss()\n",
        "optimizer = torch.optim.Adam(model.parameters(), lr = learning_rate)\n",
        "\n",
        "# SUMMARY\n",
        "summary(model,(3,32,32))\n"
      ],
      "metadata": {
        "id": "WGHNpxCzApWo",
        "colab": {
          "base_uri": "https://localhost:8080/"
        },
        "outputId": "18056594-e6e3-4cdc-8814-7c489d82f47f"
      },
      "execution_count": null,
      "outputs": [
        {
          "output_type": "stream",
          "name": "stdout",
          "text": [
            "----------------------------------------------------------------\n",
            "        Layer (type)               Output Shape         Param #\n",
            "================================================================\n",
            "            Conv2d-1            [-1, 8, 29, 29]             392\n",
            "           Sigmoid-2            [-1, 8, 29, 29]               0\n",
            "         MaxPool2d-3            [-1, 8, 14, 14]               0\n",
            "            Conv2d-4           [-1, 16, 11, 11]           2,064\n",
            "           Sigmoid-5           [-1, 16, 11, 11]               0\n",
            "         MaxPool2d-6             [-1, 16, 5, 5]               0\n",
            "            Linear-7                  [-1, 256]         102,656\n",
            "           Sigmoid-8                  [-1, 256]               0\n",
            "            Linear-9                   [-1, 64]          16,448\n",
            "          Sigmoid-10                   [-1, 64]               0\n",
            "           Linear-11                   [-1, 10]             650\n",
            "================================================================\n",
            "Total params: 122,210\n",
            "Trainable params: 122,210\n",
            "Non-trainable params: 0\n",
            "----------------------------------------------------------------\n",
            "Input size (MB): 0.01\n",
            "Forward/backward pass size (MB): 0.15\n",
            "Params size (MB): 0.47\n",
            "Estimated Total Size (MB): 0.63\n",
            "----------------------------------------------------------------\n"
          ]
        }
      ]
    },
    {
      "cell_type": "code",
      "source": [
        "#TRAIN THE MODEL\n",
        "model.train()\n",
        "epoch = 10\n",
        "\n",
        "num_of_batch=np.int(len(train_generator.dataset)/batch_size)\n",
        "\n",
        "loss_values = np.zeros(epoch*num_of_batch)\n",
        "for i in range(epoch):\n",
        "  for batch_idx, (x_train, y_train) in enumerate(train_generator):\n",
        "    x_train, y_train = x_train.to(device), y_train.to(device)\n",
        "    optimizer.zero_grad()\n",
        "    y_pred = model(x_train)\n",
        "    loss = loss_fun(y_pred, y_train)\n",
        "    loss_values[num_of_batch*i+batch_idx] = loss.item()\n",
        "    loss.backward()\n",
        "    optimizer.step()\n",
        "    if (batch_idx+1) % batch_size == 0:\n",
        "        print('Epoch: {}/{} [Batch: {}/{} ({:.0f}%)]\\tLoss: {:.6f}'.format(\n",
        "            i+1, epoch, (batch_idx+1) * len(x_train), len(train_generator.dataset),\n",
        "            100. * (batch_idx+1) / len(train_generator), loss.item()))    "
      ],
      "metadata": {
        "id": "xHZCQJQkAxw0",
        "colab": {
          "base_uri": "https://localhost:8080/"
        },
        "outputId": "48f4cd3b-a724-4707-95c3-3e7a54665401"
      },
      "execution_count": null,
      "outputs": [
        {
          "output_type": "stream",
          "name": "stdout",
          "text": [
            "Epoch: 1/10 [Batch: 10000/50000 (20%)]\tLoss: 2.304116\n",
            "Epoch: 1/10 [Batch: 20000/50000 (40%)]\tLoss: 2.163043\n",
            "Epoch: 1/10 [Batch: 30000/50000 (60%)]\tLoss: 2.151380\n",
            "Epoch: 1/10 [Batch: 40000/50000 (80%)]\tLoss: 2.033580\n",
            "Epoch: 1/10 [Batch: 50000/50000 (100%)]\tLoss: 1.966078\n",
            "Epoch: 2/10 [Batch: 10000/50000 (20%)]\tLoss: 1.993485\n",
            "Epoch: 2/10 [Batch: 20000/50000 (40%)]\tLoss: 2.116996\n",
            "Epoch: 2/10 [Batch: 30000/50000 (60%)]\tLoss: 2.015048\n",
            "Epoch: 2/10 [Batch: 40000/50000 (80%)]\tLoss: 2.021232\n",
            "Epoch: 2/10 [Batch: 50000/50000 (100%)]\tLoss: 1.953170\n",
            "Epoch: 3/10 [Batch: 10000/50000 (20%)]\tLoss: 1.814739\n",
            "Epoch: 3/10 [Batch: 20000/50000 (40%)]\tLoss: 1.778557\n",
            "Epoch: 3/10 [Batch: 30000/50000 (60%)]\tLoss: 1.842888\n",
            "Epoch: 3/10 [Batch: 40000/50000 (80%)]\tLoss: 1.768866\n",
            "Epoch: 3/10 [Batch: 50000/50000 (100%)]\tLoss: 1.881565\n",
            "Epoch: 4/10 [Batch: 10000/50000 (20%)]\tLoss: 1.762808\n",
            "Epoch: 4/10 [Batch: 20000/50000 (40%)]\tLoss: 1.810751\n",
            "Epoch: 4/10 [Batch: 30000/50000 (60%)]\tLoss: 1.908579\n",
            "Epoch: 4/10 [Batch: 40000/50000 (80%)]\tLoss: 1.915297\n",
            "Epoch: 4/10 [Batch: 50000/50000 (100%)]\tLoss: 1.596877\n",
            "Epoch: 5/10 [Batch: 10000/50000 (20%)]\tLoss: 1.747207\n",
            "Epoch: 5/10 [Batch: 20000/50000 (40%)]\tLoss: 1.686767\n",
            "Epoch: 5/10 [Batch: 30000/50000 (60%)]\tLoss: 1.713181\n",
            "Epoch: 5/10 [Batch: 40000/50000 (80%)]\tLoss: 1.652671\n",
            "Epoch: 5/10 [Batch: 50000/50000 (100%)]\tLoss: 1.728626\n",
            "Epoch: 6/10 [Batch: 10000/50000 (20%)]\tLoss: 1.612773\n",
            "Epoch: 6/10 [Batch: 20000/50000 (40%)]\tLoss: 1.728046\n",
            "Epoch: 6/10 [Batch: 30000/50000 (60%)]\tLoss: 1.881076\n",
            "Epoch: 6/10 [Batch: 40000/50000 (80%)]\tLoss: 1.758918\n",
            "Epoch: 6/10 [Batch: 50000/50000 (100%)]\tLoss: 1.678548\n",
            "Epoch: 7/10 [Batch: 10000/50000 (20%)]\tLoss: 1.635035\n",
            "Epoch: 7/10 [Batch: 20000/50000 (40%)]\tLoss: 1.580833\n",
            "Epoch: 7/10 [Batch: 30000/50000 (60%)]\tLoss: 1.826030\n",
            "Epoch: 7/10 [Batch: 40000/50000 (80%)]\tLoss: 1.701180\n",
            "Epoch: 7/10 [Batch: 50000/50000 (100%)]\tLoss: 1.635299\n",
            "Epoch: 8/10 [Batch: 10000/50000 (20%)]\tLoss: 1.600815\n",
            "Epoch: 8/10 [Batch: 20000/50000 (40%)]\tLoss: 1.398542\n",
            "Epoch: 8/10 [Batch: 30000/50000 (60%)]\tLoss: 1.677052\n",
            "Epoch: 8/10 [Batch: 40000/50000 (80%)]\tLoss: 1.696446\n",
            "Epoch: 8/10 [Batch: 50000/50000 (100%)]\tLoss: 1.707719\n",
            "Epoch: 9/10 [Batch: 10000/50000 (20%)]\tLoss: 1.536893\n",
            "Epoch: 9/10 [Batch: 20000/50000 (40%)]\tLoss: 1.645865\n",
            "Epoch: 9/10 [Batch: 30000/50000 (60%)]\tLoss: 1.622025\n",
            "Epoch: 9/10 [Batch: 40000/50000 (80%)]\tLoss: 1.665705\n",
            "Epoch: 9/10 [Batch: 50000/50000 (100%)]\tLoss: 1.710800\n",
            "Epoch: 10/10 [Batch: 10000/50000 (20%)]\tLoss: 1.508257\n",
            "Epoch: 10/10 [Batch: 20000/50000 (40%)]\tLoss: 1.513326\n",
            "Epoch: 10/10 [Batch: 30000/50000 (60%)]\tLoss: 1.608315\n",
            "Epoch: 10/10 [Batch: 40000/50000 (80%)]\tLoss: 1.468388\n",
            "Epoch: 10/10 [Batch: 50000/50000 (100%)]\tLoss: 1.439004\n"
          ]
        }
      ]
    },
    {
      "cell_type": "code",
      "source": [
        "#PLOT THE LEARNING CURVE\n",
        "iterations = np.linspace(0,epoch,num_of_batch*epoch)\n",
        "plt.plot(iterations, loss_values)\n",
        "plt.title('Learning Curve')\n",
        "plt.xlabel('Epoch')\n",
        "plt.ylabel('Loss')\n",
        "plt.grid('on')\n",
        "plt.savefig('drive/MyDrive/583_HW7/Q3.png')"
      ],
      "metadata": {
        "id": "bEeZzJiyA5Ag",
        "colab": {
          "base_uri": "https://localhost:8080/",
          "height": 295
        },
        "outputId": "edc2f931-cc9c-41bc-a7fe-03d88d610675"
      },
      "execution_count": null,
      "outputs": [
        {
          "output_type": "display_data",
          "data": {
            "image/png": "[encoded data removed]",
            "text/plain": [
              "<Figure size 432x288 with 1 Axes>"
            ]
          },
          "metadata": {
            "needs_background": "light"
          }
        }
      ]
    },
    {
      "cell_type": "code",
      "source": [
        "#TEST THE MODEL\n",
        "model.eval()\n",
        "correct=0\n",
        "total=0\n",
        "\n",
        "for x_val, y_val in test_generator:\n",
        "  x_val = x_val.to(device)\n",
        "  y_val = y_val.to(device)\n",
        "\n",
        "  output = model(x_val)\n",
        "  y_pred = output.argmax(dim=1)\n",
        "\n",
        "  for i in range(y_pred.shape[0]):\n",
        "    if y_val[i]==y_pred[i]:\n",
        "      correct += 1\n",
        "    total +=1\n",
        "\n",
        "print('Validation accuracy: %.2f%%' %((100*correct)//(total)))  "
      ],
      "metadata": {
        "id": "t_04q3AYBHRf",
        "colab": {
          "base_uri": "https://localhost:8080/"
        },
        "outputId": "33f093b5-a516-43c2-c924-481a693040e4"
      },
      "execution_count": null,
      "outputs": [
        {
          "output_type": "stream",
          "name": "stdout",
          "text": [
            "Validation accuracy: 45.00%\n"
          ]
        }
      ]
    },
    {
      "cell_type": "markdown",
      "source": [
        "**The network with activations Sigmoid, rather than ReLU, performed remarkably poorer, both in terms of training loss and validation accuracy. Returning back to ReLU.**"
      ],
      "metadata": {
        "id": "q1umxyubCWC6"
      }
    },
    {
      "cell_type": "markdown",
      "source": [
        "## Q4\n",
        "### Increase the kernel size of convolutional layers"
      ],
      "metadata": {
        "id": "hhScd07BCxZN"
      }
    },
    {
      "cell_type": "code",
      "source": [
        "#DEFINE NEURAL NETWORK MODEL\n",
        "class CNNQ4(torch.nn.Module):\n",
        "  def __init__(self):\n",
        "    super(CNNQ4, self).__init__()\n",
        "    self.conv1 = torch.nn.Conv2d(3, 8, kernel_size = 6, stride = 1)\n",
        "    self.conv2 = torch.nn.Conv2d(8, 16, kernel_size = 6, stride = 1)\n",
        "    self.mpool = torch.nn.MaxPool2d(2)\n",
        "    self.fc1 = torch.nn.Linear(256, 256)\n",
        "    self.fc2 = torch.nn.Linear(256, 64)    \n",
        "    self.fc3 = torch.nn.Linear(64, 10)\n",
        "    self.relu = torch.nn.ReLU()\n",
        "    self.sigmoid = torch.nn.Sigmoid()\n",
        "    self.drop = torch.nn.Dropout(0.1)\n",
        "  def forward(self, x):\n",
        "    hidden = self.mpool(self.relu(self.conv1(x)))\n",
        "    hidden = self.mpool(self.relu(self.conv2(hidden)))\n",
        "    hidden = hidden.view(-1,256)\n",
        "    hidden = self.relu(self.fc1(hidden))\n",
        "    hidden = self.relu(self.fc2(hidden))\n",
        "    output = self.fc3(hidden)\n",
        "    return output"
      ],
      "metadata": {
        "id": "M0aVc6zYCT0A"
      },
      "execution_count": null,
      "outputs": []
    },
    {
      "cell_type": "code",
      "source": [
        "#CREATE MODEL\n",
        "model = CNNQ4()\n",
        "model.to(device)\n",
        "\n",
        "#DEFINE LOSS FUNCTION AND OPTIMIZER\n",
        "learning_rate = 0.001\n",
        "\n",
        "loss_fun = torch.nn.CrossEntropyLoss()\n",
        "optimizer = torch.optim.Adam(model.parameters(), lr = learning_rate)\n",
        "\n",
        "# SUMMARY\n",
        "summary(model,(3,32,32))\n"
      ],
      "metadata": {
        "id": "lP3vPH6WDLYL",
        "colab": {
          "base_uri": "https://localhost:8080/"
        },
        "outputId": "4031039d-5d4a-4aff-bee4-66f3c41953d4"
      },
      "execution_count": null,
      "outputs": [
        {
          "output_type": "stream",
          "name": "stdout",
          "text": [
            "----------------------------------------------------------------\n",
            "        Layer (type)               Output Shape         Param #\n",
            "================================================================\n",
            "            Conv2d-1            [-1, 8, 27, 27]             872\n",
            "              ReLU-2            [-1, 8, 27, 27]               0\n",
            "         MaxPool2d-3            [-1, 8, 13, 13]               0\n",
            "            Conv2d-4             [-1, 16, 8, 8]           4,624\n",
            "              ReLU-5             [-1, 16, 8, 8]               0\n",
            "         MaxPool2d-6             [-1, 16, 4, 4]               0\n",
            "            Linear-7                  [-1, 256]          65,792\n",
            "              ReLU-8                  [-1, 256]               0\n",
            "            Linear-9                   [-1, 64]          16,448\n",
            "             ReLU-10                   [-1, 64]               0\n",
            "           Linear-11                   [-1, 10]             650\n",
            "================================================================\n",
            "Total params: 88,386\n",
            "Trainable params: 88,386\n",
            "Non-trainable params: 0\n",
            "----------------------------------------------------------------\n",
            "Input size (MB): 0.01\n",
            "Forward/backward pass size (MB): 0.12\n",
            "Params size (MB): 0.34\n",
            "Estimated Total Size (MB): 0.47\n",
            "----------------------------------------------------------------\n"
          ]
        }
      ]
    },
    {
      "cell_type": "code",
      "source": [
        "#TRAIN THE MODEL\n",
        "model.train()\n",
        "epoch = 10\n",
        "\n",
        "num_of_batch=np.int(len(train_generator.dataset)/batch_size)\n",
        "\n",
        "loss_values = np.zeros(epoch*num_of_batch)\n",
        "for i in range(epoch):\n",
        "  for batch_idx, (x_train, y_train) in enumerate(train_generator):\n",
        "    x_train, y_train = x_train.to(device), y_train.to(device)\n",
        "    optimizer.zero_grad()\n",
        "    y_pred = model(x_train)\n",
        "    loss = loss_fun(y_pred, y_train)\n",
        "    loss_values[num_of_batch*i+batch_idx] = loss.item()\n",
        "    loss.backward()\n",
        "    optimizer.step()\n",
        "    if (batch_idx+1) % batch_size == 0:\n",
        "        print('Epoch: {}/{} [Batch: {}/{} ({:.0f}%)]\\tLoss: {:.6f}'.format(\n",
        "            i+1, epoch, (batch_idx+1) * len(x_train), len(train_generator.dataset),\n",
        "            100. * (batch_idx+1) / len(train_generator), loss.item()))    "
      ],
      "metadata": {
        "id": "m654DRm4DP5d",
        "colab": {
          "base_uri": "https://localhost:8080/"
        },
        "outputId": "d7cf5e69-7835-4228-b5c5-5c9c1daa425b"
      },
      "execution_count": null,
      "outputs": [
        {
          "output_type": "stream",
          "name": "stdout",
          "text": [
            "Epoch: 1/10 [Batch: 10000/50000 (20%)]\tLoss: 2.021697\n",
            "Epoch: 1/10 [Batch: 20000/50000 (40%)]\tLoss: 1.766634\n",
            "Epoch: 1/10 [Batch: 30000/50000 (60%)]\tLoss: 1.758830\n",
            "Epoch: 1/10 [Batch: 40000/50000 (80%)]\tLoss: 1.860762\n",
            "Epoch: 1/10 [Batch: 50000/50000 (100%)]\tLoss: 1.632864\n",
            "Epoch: 2/10 [Batch: 10000/50000 (20%)]\tLoss: 1.545504\n",
            "Epoch: 2/10 [Batch: 20000/50000 (40%)]\tLoss: 1.519792\n",
            "Epoch: 2/10 [Batch: 30000/50000 (60%)]\tLoss: 1.579289\n",
            "Epoch: 2/10 [Batch: 40000/50000 (80%)]\tLoss: 1.519796\n",
            "Epoch: 2/10 [Batch: 50000/50000 (100%)]\tLoss: 1.484550\n",
            "Epoch: 3/10 [Batch: 10000/50000 (20%)]\tLoss: 1.619676\n",
            "Epoch: 3/10 [Batch: 20000/50000 (40%)]\tLoss: 1.521780\n",
            "Epoch: 3/10 [Batch: 30000/50000 (60%)]\tLoss: 1.455799\n",
            "Epoch: 3/10 [Batch: 40000/50000 (80%)]\tLoss: 1.505249\n",
            "Epoch: 3/10 [Batch: 50000/50000 (100%)]\tLoss: 1.304922\n",
            "Epoch: 4/10 [Batch: 10000/50000 (20%)]\tLoss: 1.463613\n",
            "Epoch: 4/10 [Batch: 20000/50000 (40%)]\tLoss: 1.270110\n",
            "Epoch: 4/10 [Batch: 30000/50000 (60%)]\tLoss: 1.268965\n",
            "Epoch: 4/10 [Batch: 40000/50000 (80%)]\tLoss: 1.494770\n",
            "Epoch: 4/10 [Batch: 50000/50000 (100%)]\tLoss: 1.372415\n",
            "Epoch: 5/10 [Batch: 10000/50000 (20%)]\tLoss: 1.292886\n",
            "Epoch: 5/10 [Batch: 20000/50000 (40%)]\tLoss: 1.322384\n",
            "Epoch: 5/10 [Batch: 30000/50000 (60%)]\tLoss: 1.188125\n",
            "Epoch: 5/10 [Batch: 40000/50000 (80%)]\tLoss: 1.202625\n",
            "Epoch: 5/10 [Batch: 50000/50000 (100%)]\tLoss: 1.351026\n",
            "Epoch: 6/10 [Batch: 10000/50000 (20%)]\tLoss: 1.120500\n",
            "Epoch: 6/10 [Batch: 20000/50000 (40%)]\tLoss: 1.478141\n",
            "Epoch: 6/10 [Batch: 30000/50000 (60%)]\tLoss: 1.217769\n",
            "Epoch: 6/10 [Batch: 40000/50000 (80%)]\tLoss: 1.172160\n",
            "Epoch: 6/10 [Batch: 50000/50000 (100%)]\tLoss: 1.160467\n",
            "Epoch: 7/10 [Batch: 10000/50000 (20%)]\tLoss: 1.335635\n",
            "Epoch: 7/10 [Batch: 20000/50000 (40%)]\tLoss: 1.267392\n",
            "Epoch: 7/10 [Batch: 30000/50000 (60%)]\tLoss: 1.193899\n",
            "Epoch: 7/10 [Batch: 40000/50000 (80%)]\tLoss: 1.209125\n",
            "Epoch: 7/10 [Batch: 50000/50000 (100%)]\tLoss: 1.096546\n",
            "Epoch: 8/10 [Batch: 10000/50000 (20%)]\tLoss: 1.086738\n",
            "Epoch: 8/10 [Batch: 20000/50000 (40%)]\tLoss: 1.088318\n",
            "Epoch: 8/10 [Batch: 30000/50000 (60%)]\tLoss: 1.057433\n",
            "Epoch: 8/10 [Batch: 40000/50000 (80%)]\tLoss: 0.982501\n",
            "Epoch: 8/10 [Batch: 50000/50000 (100%)]\tLoss: 1.267817\n",
            "Epoch: 9/10 [Batch: 10000/50000 (20%)]\tLoss: 1.046066\n",
            "Epoch: 9/10 [Batch: 20000/50000 (40%)]\tLoss: 1.087351\n",
            "Epoch: 9/10 [Batch: 30000/50000 (60%)]\tLoss: 1.002679\n",
            "Epoch: 9/10 [Batch: 40000/50000 (80%)]\tLoss: 1.069166\n",
            "Epoch: 9/10 [Batch: 50000/50000 (100%)]\tLoss: 1.139246\n",
            "Epoch: 10/10 [Batch: 10000/50000 (20%)]\tLoss: 1.017682\n",
            "Epoch: 10/10 [Batch: 20000/50000 (40%)]\tLoss: 1.018468\n",
            "Epoch: 10/10 [Batch: 30000/50000 (60%)]\tLoss: 0.932353\n",
            "Epoch: 10/10 [Batch: 40000/50000 (80%)]\tLoss: 1.102373\n",
            "Epoch: 10/10 [Batch: 50000/50000 (100%)]\tLoss: 1.005971\n"
          ]
        }
      ]
    },
    {
      "cell_type": "code",
      "source": [
        "#PLOT THE LEARNING CURVE\n",
        "iterations = np.linspace(0,epoch,num_of_batch*epoch)\n",
        "plt.plot(iterations, loss_values)\n",
        "plt.title('Learning Curve')\n",
        "plt.xlabel('Epoch')\n",
        "plt.ylabel('Loss')\n",
        "plt.grid('on')\n",
        "plt.savefig('drive/MyDrive/583_HW7/Q4.png')"
      ],
      "metadata": {
        "id": "0bVIk0CVGayZ",
        "colab": {
          "base_uri": "https://localhost:8080/",
          "height": 295
        },
        "outputId": "46929cc7-888c-42e2-bf48-d0c52c7e9741"
      },
      "execution_count": null,
      "outputs": [
        {
          "output_type": "display_data",
          "data": {
            "image/png": "[encoded data removed]",
            "text/plain": [
              "<Figure size 432x288 with 1 Axes>"
            ]
          },
          "metadata": {
            "needs_background": "light"
          }
        }
      ]
    },
    {
      "cell_type": "code",
      "source": [
        "#TEST THE MODEL\n",
        "model.eval()\n",
        "correct=0\n",
        "total=0\n",
        "\n",
        "for x_val, y_val in test_generator:\n",
        "  x_val = x_val.to(device)\n",
        "  y_val = y_val.to(device)\n",
        "\n",
        "  output = model(x_val)\n",
        "  y_pred = output.argmax(dim=1)\n",
        "\n",
        "  for i in range(y_pred.shape[0]):\n",
        "    if y_val[i]==y_pred[i]:\n",
        "      correct += 1\n",
        "    total +=1\n",
        "\n",
        "print('Validation accuracy: %.2f%%' %((100*correct)//(total)))  "
      ],
      "metadata": {
        "id": "V2bW85gtHa_i",
        "colab": {
          "base_uri": "https://localhost:8080/"
        },
        "outputId": "7755a53b-eb45-44b8-dfbe-fc100797c939"
      },
      "execution_count": null,
      "outputs": [
        {
          "output_type": "stream",
          "name": "stdout",
          "text": [
            "Validation accuracy: 57.00%\n"
          ]
        }
      ]
    },
    {
      "cell_type": "markdown",
      "source": [
        "**Increasing the kernel size decreased accuracy with respect to the Q1 network with Adams and Kernel size 4. This may be attributed to the decreased number of parameters in the network, due to the increased kernel size resulting in shrinked outputs, hence less number of parameters in the fully connected layers.Returning back to kernel size 4.**"
      ],
      "metadata": {
        "id": "w0MEcZgeJGo1"
      }
    },
    {
      "cell_type": "markdown",
      "source": [
        "## Q5\n",
        "### Remove max pooling layers"
      ],
      "metadata": {
        "id": "bAAMt8f8NkYM"
      }
    },
    {
      "cell_type": "code",
      "source": [
        "#DEFINE NEURAL NETWORK MODEL\n",
        "class CNNQ5(torch.nn.Module):\n",
        "  def __init__(self):\n",
        "    super(CNNQ5, self).__init__()\n",
        "    self.conv1 = torch.nn.Conv2d(3, 8, kernel_size = 4, stride = 1)\n",
        "    self.conv2 = torch.nn.Conv2d(8, 16, kernel_size = 4, stride = 1)\n",
        "    self.mpool = torch.nn.MaxPool2d(2)\n",
        "    self.fc1 = torch.nn.Linear(10816, 256)\n",
        "    self.fc2 = torch.nn.Linear(256, 64)    \n",
        "    self.fc3 = torch.nn.Linear(64, 10)\n",
        "    self.relu = torch.nn.ReLU()\n",
        "    self.sigmoid = torch.nn.Sigmoid()\n",
        "    self.drop = torch.nn.Dropout(0.1)\n",
        "  def forward(self, x):\n",
        "    hidden = (self.relu(self.conv1(x)))\n",
        "    hidden = (self.relu(self.conv2(hidden)))\n",
        "    hidden = hidden.view(-1,10816)\n",
        "    hidden = self.relu(self.fc1(hidden))\n",
        "    hidden = self.relu(self.fc2(hidden))\n",
        "    output = self.fc3(hidden)\n",
        "    return output"
      ],
      "metadata": {
        "id": "H_E5M1JRHi5t"
      },
      "execution_count": null,
      "outputs": []
    },
    {
      "cell_type": "code",
      "source": [
        "#CREATE MODEL\n",
        "model = CNNQ5()\n",
        "model.to(device)\n",
        "\n",
        "#DEFINE LOSS FUNCTION AND OPTIMIZER\n",
        "learning_rate = 0.001\n",
        "\n",
        "loss_fun = torch.nn.CrossEntropyLoss()\n",
        "optimizer = torch.optim.Adam(model.parameters(), lr = learning_rate)\n",
        "\n",
        "# SUMMARY\n",
        "summary(model,(3,32,32))\n"
      ],
      "metadata": {
        "id": "C2Bjdjy5ODLA",
        "colab": {
          "base_uri": "https://localhost:8080/"
        },
        "outputId": "a2d0be2e-d410-421a-8fa7-28cfb30e2be8"
      },
      "execution_count": null,
      "outputs": [
        {
          "output_type": "stream",
          "name": "stdout",
          "text": [
            "----------------------------------------------------------------\n",
            "        Layer (type)               Output Shape         Param #\n",
            "================================================================\n",
            "            Conv2d-1            [-1, 8, 29, 29]             392\n",
            "              ReLU-2            [-1, 8, 29, 29]               0\n",
            "            Conv2d-3           [-1, 16, 26, 26]           2,064\n",
            "              ReLU-4           [-1, 16, 26, 26]               0\n",
            "            Linear-5                  [-1, 256]       2,769,152\n",
            "              ReLU-6                  [-1, 256]               0\n",
            "            Linear-7                   [-1, 64]          16,448\n",
            "              ReLU-8                   [-1, 64]               0\n",
            "            Linear-9                   [-1, 10]             650\n",
            "================================================================\n",
            "Total params: 2,788,706\n",
            "Trainable params: 2,788,706\n",
            "Non-trainable params: 0\n",
            "----------------------------------------------------------------\n",
            "Input size (MB): 0.01\n",
            "Forward/backward pass size (MB): 0.27\n",
            "Params size (MB): 10.64\n",
            "Estimated Total Size (MB): 10.92\n",
            "----------------------------------------------------------------\n"
          ]
        }
      ]
    },
    {
      "cell_type": "code",
      "source": [
        "#TRAIN THE MODEL\n",
        "model.train()\n",
        "epoch = 10\n",
        "\n",
        "num_of_batch=np.int(len(train_generator.dataset)/batch_size)\n",
        "\n",
        "loss_values = np.zeros(epoch*num_of_batch)\n",
        "for i in range(epoch):\n",
        "  for batch_idx, (x_train, y_train) in enumerate(train_generator):\n",
        "    x_train, y_train = x_train.to(device), y_train.to(device)\n",
        "    optimizer.zero_grad()\n",
        "    y_pred = model(x_train)\n",
        "    loss = loss_fun(y_pred, y_train)\n",
        "    loss_values[num_of_batch*i+batch_idx] = loss.item()\n",
        "    loss.backward()\n",
        "    optimizer.step()\n",
        "    if (batch_idx+1) % batch_size == 0:\n",
        "        print('Epoch: {}/{} [Batch: {}/{} ({:.0f}%)]\\tLoss: {:.6f}'.format(\n",
        "            i+1, epoch, (batch_idx+1) * len(x_train), len(train_generator.dataset),\n",
        "            100. * (batch_idx+1) / len(train_generator), loss.item()))    "
      ],
      "metadata": {
        "id": "zea4anDpOEeq",
        "colab": {
          "base_uri": "https://localhost:8080/"
        },
        "outputId": "50cfa147-4452-4b6e-8272-fe5f10462a0d"
      },
      "execution_count": null,
      "outputs": [
        {
          "output_type": "stream",
          "name": "stdout",
          "text": [
            "Epoch: 1/10 [Batch: 10000/50000 (20%)]\tLoss: 0.397587\n",
            "Epoch: 1/10 [Batch: 20000/50000 (40%)]\tLoss: 0.354198\n",
            "Epoch: 1/10 [Batch: 30000/50000 (60%)]\tLoss: 0.419669\n",
            "Epoch: 1/10 [Batch: 40000/50000 (80%)]\tLoss: 0.300957\n",
            "Epoch: 1/10 [Batch: 50000/50000 (100%)]\tLoss: 0.445359\n",
            "Epoch: 2/10 [Batch: 10000/50000 (20%)]\tLoss: 0.202522\n",
            "Epoch: 2/10 [Batch: 20000/50000 (40%)]\tLoss: 0.258415\n",
            "Epoch: 2/10 [Batch: 30000/50000 (60%)]\tLoss: 0.422641\n",
            "Epoch: 2/10 [Batch: 40000/50000 (80%)]\tLoss: 0.271738\n",
            "Epoch: 2/10 [Batch: 50000/50000 (100%)]\tLoss: 0.308269\n",
            "Epoch: 3/10 [Batch: 10000/50000 (20%)]\tLoss: 0.104597\n",
            "Epoch: 3/10 [Batch: 20000/50000 (40%)]\tLoss: 0.201747\n",
            "Epoch: 3/10 [Batch: 30000/50000 (60%)]\tLoss: 0.166502\n",
            "Epoch: 3/10 [Batch: 40000/50000 (80%)]\tLoss: 0.178280\n",
            "Epoch: 3/10 [Batch: 50000/50000 (100%)]\tLoss: 0.145707\n",
            "Epoch: 4/10 [Batch: 10000/50000 (20%)]\tLoss: 0.165880\n",
            "Epoch: 4/10 [Batch: 20000/50000 (40%)]\tLoss: 0.080247\n",
            "Epoch: 4/10 [Batch: 30000/50000 (60%)]\tLoss: 0.093291\n",
            "Epoch: 4/10 [Batch: 40000/50000 (80%)]\tLoss: 0.222174\n",
            "Epoch: 4/10 [Batch: 50000/50000 (100%)]\tLoss: 0.188313\n",
            "Epoch: 5/10 [Batch: 10000/50000 (20%)]\tLoss: 0.230045\n",
            "Epoch: 5/10 [Batch: 20000/50000 (40%)]\tLoss: 0.047383\n",
            "Epoch: 5/10 [Batch: 30000/50000 (60%)]\tLoss: 0.090266\n",
            "Epoch: 5/10 [Batch: 40000/50000 (80%)]\tLoss: 0.143519\n",
            "Epoch: 5/10 [Batch: 50000/50000 (100%)]\tLoss: 0.215926\n",
            "Epoch: 6/10 [Batch: 10000/50000 (20%)]\tLoss: 0.120997\n",
            "Epoch: 6/10 [Batch: 20000/50000 (40%)]\tLoss: 0.066584\n",
            "Epoch: 6/10 [Batch: 30000/50000 (60%)]\tLoss: 0.156069\n",
            "Epoch: 6/10 [Batch: 40000/50000 (80%)]\tLoss: 0.137690\n",
            "Epoch: 6/10 [Batch: 50000/50000 (100%)]\tLoss: 0.100795\n",
            "Epoch: 7/10 [Batch: 10000/50000 (20%)]\tLoss: 0.096036\n",
            "Epoch: 7/10 [Batch: 20000/50000 (40%)]\tLoss: 0.028743\n",
            "Epoch: 7/10 [Batch: 30000/50000 (60%)]\tLoss: 0.176817\n",
            "Epoch: 7/10 [Batch: 40000/50000 (80%)]\tLoss: 0.065263\n",
            "Epoch: 7/10 [Batch: 50000/50000 (100%)]\tLoss: 0.080358\n",
            "Epoch: 8/10 [Batch: 10000/50000 (20%)]\tLoss: 0.039991\n",
            "Epoch: 8/10 [Batch: 20000/50000 (40%)]\tLoss: 0.123598\n",
            "Epoch: 8/10 [Batch: 30000/50000 (60%)]\tLoss: 0.029759\n",
            "Epoch: 8/10 [Batch: 40000/50000 (80%)]\tLoss: 0.063611\n",
            "Epoch: 8/10 [Batch: 50000/50000 (100%)]\tLoss: 0.102855\n",
            "Epoch: 9/10 [Batch: 10000/50000 (20%)]\tLoss: 0.053693\n",
            "Epoch: 9/10 [Batch: 20000/50000 (40%)]\tLoss: 0.025046\n",
            "Epoch: 9/10 [Batch: 30000/50000 (60%)]\tLoss: 0.035936\n",
            "Epoch: 9/10 [Batch: 40000/50000 (80%)]\tLoss: 0.293280\n",
            "Epoch: 9/10 [Batch: 50000/50000 (100%)]\tLoss: 0.163612\n",
            "Epoch: 10/10 [Batch: 10000/50000 (20%)]\tLoss: 0.040707\n",
            "Epoch: 10/10 [Batch: 20000/50000 (40%)]\tLoss: 0.078210\n",
            "Epoch: 10/10 [Batch: 30000/50000 (60%)]\tLoss: 0.033172\n",
            "Epoch: 10/10 [Batch: 40000/50000 (80%)]\tLoss: 0.108378\n",
            "Epoch: 10/10 [Batch: 50000/50000 (100%)]\tLoss: 0.086482\n"
          ]
        }
      ]
    },
    {
      "cell_type": "code",
      "source": [
        "#PLOT THE LEARNING CURVE\n",
        "iterations = np.linspace(0,epoch,num_of_batch*epoch)\n",
        "plt.plot(iterations, loss_values)\n",
        "plt.title('Learning Curve')\n",
        "plt.xlabel('Epoch')\n",
        "plt.ylabel('Loss')\n",
        "plt.grid('on')\n",
        "plt.savefig('drive/MyDrive/583_HW7/Q5.png')"
      ],
      "metadata": {
        "id": "FRtuv_UlQx-Q",
        "colab": {
          "base_uri": "https://localhost:8080/",
          "height": 295
        },
        "outputId": "d1a7830f-f217-4058-d843-6d1b00ef9d9d"
      },
      "execution_count": null,
      "outputs": [
        {
          "output_type": "display_data",
          "data": {
            "image/png": "[encoded data removed]",
            "text/plain": [
              "<Figure size 432x288 with 1 Axes>"
            ]
          },
          "metadata": {
            "needs_background": "light"
          }
        }
      ]
    },
    {
      "cell_type": "code",
      "source": [
        "#TEST THE MODEL\n",
        "model.eval()\n",
        "correct=0\n",
        "total=0\n",
        "\n",
        "for x_val, y_val in test_generator:\n",
        "  x_val = x_val.to(device)\n",
        "  y_val = y_val.to(device)\n",
        "\n",
        "  output = model(x_val)\n",
        "  y_pred = output.argmax(dim=1)\n",
        "\n",
        "  for i in range(y_pred.shape[0]):\n",
        "    if y_val[i]==y_pred[i]:\n",
        "      correct += 1\n",
        "    total +=1\n",
        "\n",
        "print('Validation accuracy: %.2f%%' %((100*correct)//(total)))  "
      ],
      "metadata": {
        "id": "WjeNowZfSLcR",
        "colab": {
          "base_uri": "https://localhost:8080/"
        },
        "outputId": "be1ecbb2-467a-40bb-8519-3bc39f1af75f"
      },
      "execution_count": null,
      "outputs": [
        {
          "output_type": "stream",
          "name": "stdout",
          "text": [
            "Validation accuracy: 59.00%\n"
          ]
        }
      ]
    },
    {
      "cell_type": "markdown",
      "source": [
        "**Removing the max pool layers resulted in a significant decrease in training loss due to the overfitting caused from increased number of network parameters with a slight decrease in the validation accuracy. This is somehow parallel with the expectations since one would expect the network would perform poorer in the absence of decreased nonlinearity of max pool layers.**"
      ],
      "metadata": {
        "id": "RIjDf-zTSVYj"
      }
    },
    {
      "cell_type": "markdown",
      "source": [
        "## Q6\n",
        "### A convolutional layer is added. "
      ],
      "metadata": {
        "id": "qOFOs1yISVly"
      }
    },
    {
      "cell_type": "code",
      "source": [
        "#DEFINE NEURAL NETWORK MODEL\n",
        "class CNNQ6(torch.nn.Module):\n",
        "  def __init__(self):\n",
        "    super(CNNQ6, self).__init__()\n",
        "    self.conv1 = torch.nn.Conv2d(3, 8, kernel_size = 4, stride = 1)\n",
        "    self.conv2 = torch.nn.Conv2d(8, 16, kernel_size = 4, stride = 1)\n",
        "    self.conv3 = torch.nn.Conv2d(16, 32, kernel_size = 4, stride = 1)\n",
        "    self.mpool = torch.nn.MaxPool2d(2)\n",
        "    self.fc1 = torch.nn.Linear(32, 256)\n",
        "    self.fc2 = torch.nn.Linear(256, 64)    \n",
        "    self.fc3 = torch.nn.Linear(64, 10)\n",
        "    self.relu = torch.nn.ReLU()\n",
        "    self.sigmoid = torch.nn.Sigmoid()\n",
        "    self.drop = torch.nn.Dropout(0.1)\n",
        "  def forward(self, x):\n",
        "    hidden = self.mpool(self.relu(self.conv1(x)))\n",
        "    hidden = self.mpool(self.relu(self.conv2(hidden)))\n",
        "    hidden = self.mpool(self.relu(self.conv3(hidden)))\n",
        "    hidden = hidden.view(-1,32)\n",
        "    hidden = self.relu(self.fc1(hidden))\n",
        "    hidden = self.relu(self.fc2(hidden))\n",
        "    output = self.fc3(hidden)\n",
        "    return output"
      ],
      "metadata": {
        "id": "IBwNyloWSN80"
      },
      "execution_count": null,
      "outputs": []
    },
    {
      "cell_type": "code",
      "source": [
        "#CREATE MODEL\n",
        "model = CNNQ6()\n",
        "model.to(device)\n",
        "\n",
        "#DEFINE LOSS FUNCTION AND OPTIMIZER\n",
        "learning_rate = 0.001\n",
        "\n",
        "loss_fun = torch.nn.CrossEntropyLoss()\n",
        "optimizer = torch.optim.Adam(model.parameters(), lr = learning_rate)\n",
        "\n",
        "# SUMMARY\n",
        "summary(model,(3,32,32))\n"
      ],
      "metadata": {
        "id": "2Lv4fzvkS96i",
        "colab": {
          "base_uri": "https://localhost:8080/"
        },
        "outputId": "4ac35eb2-511b-405f-89ad-5ef074f8242f"
      },
      "execution_count": null,
      "outputs": [
        {
          "output_type": "stream",
          "name": "stdout",
          "text": [
            "----------------------------------------------------------------\n",
            "        Layer (type)               Output Shape         Param #\n",
            "================================================================\n",
            "            Conv2d-1            [-1, 8, 29, 29]             392\n",
            "              ReLU-2            [-1, 8, 29, 29]               0\n",
            "         MaxPool2d-3            [-1, 8, 14, 14]               0\n",
            "            Conv2d-4           [-1, 16, 11, 11]           2,064\n",
            "              ReLU-5           [-1, 16, 11, 11]               0\n",
            "         MaxPool2d-6             [-1, 16, 5, 5]               0\n",
            "            Conv2d-7             [-1, 32, 2, 2]           8,224\n",
            "              ReLU-8             [-1, 32, 2, 2]               0\n",
            "         MaxPool2d-9             [-1, 32, 1, 1]               0\n",
            "           Linear-10                  [-1, 256]           8,448\n",
            "             ReLU-11                  [-1, 256]               0\n",
            "           Linear-12                   [-1, 64]          16,448\n",
            "             ReLU-13                   [-1, 64]               0\n",
            "           Linear-14                   [-1, 10]             650\n",
            "================================================================\n",
            "Total params: 36,226\n",
            "Trainable params: 36,226\n",
            "Non-trainable params: 0\n",
            "----------------------------------------------------------------\n",
            "Input size (MB): 0.01\n",
            "Forward/backward pass size (MB): 0.15\n",
            "Params size (MB): 0.14\n",
            "Estimated Total Size (MB): 0.30\n",
            "----------------------------------------------------------------\n"
          ]
        }
      ]
    },
    {
      "cell_type": "code",
      "source": [
        "#TRAIN THE MODEL\n",
        "model.train()\n",
        "epoch = 10\n",
        "\n",
        "num_of_batch=np.int(len(train_generator.dataset)/batch_size)\n",
        "\n",
        "loss_values = np.zeros(epoch*num_of_batch)\n",
        "for i in range(epoch):\n",
        "  for batch_idx, (x_train, y_train) in enumerate(train_generator):\n",
        "    x_train, y_train = x_train.to(device), y_train.to(device)\n",
        "    optimizer.zero_grad()\n",
        "    y_pred = model(x_train)\n",
        "    loss = loss_fun(y_pred, y_train)\n",
        "    loss_values[num_of_batch*i+batch_idx] = loss.item()\n",
        "    loss.backward()\n",
        "    optimizer.step()\n",
        "    if (batch_idx+1) % batch_size == 0:\n",
        "        print('Epoch: {}/{} [Batch: {}/{} ({:.0f}%)]\\tLoss: {:.6f}'.format(\n",
        "            i+1, epoch, (batch_idx+1) * len(x_train), len(train_generator.dataset),\n",
        "            100. * (batch_idx+1) / len(train_generator), loss.item()))    "
      ],
      "metadata": {
        "id": "dwZ7AFmdTb-8",
        "colab": {
          "base_uri": "https://localhost:8080/"
        },
        "outputId": "eb5ea20c-e659-4328-ba35-cbaa64329d8b"
      },
      "execution_count": null,
      "outputs": [
        {
          "output_type": "stream",
          "name": "stdout",
          "text": [
            "Epoch: 1/10 [Batch: 10000/50000 (20%)]\tLoss: 2.226628\n",
            "Epoch: 1/10 [Batch: 20000/50000 (40%)]\tLoss: 1.937245\n",
            "Epoch: 1/10 [Batch: 30000/50000 (60%)]\tLoss: 1.870508\n",
            "Epoch: 1/10 [Batch: 40000/50000 (80%)]\tLoss: 1.777901\n",
            "Epoch: 1/10 [Batch: 50000/50000 (100%)]\tLoss: 1.813008\n",
            "Epoch: 2/10 [Batch: 10000/50000 (20%)]\tLoss: 1.651842\n",
            "Epoch: 2/10 [Batch: 20000/50000 (40%)]\tLoss: 1.741103\n",
            "Epoch: 2/10 [Batch: 30000/50000 (60%)]\tLoss: 1.607360\n",
            "Epoch: 2/10 [Batch: 40000/50000 (80%)]\tLoss: 1.631606\n",
            "Epoch: 2/10 [Batch: 50000/50000 (100%)]\tLoss: 1.629384\n",
            "Epoch: 3/10 [Batch: 10000/50000 (20%)]\tLoss: 1.708601\n",
            "Epoch: 3/10 [Batch: 20000/50000 (40%)]\tLoss: 1.505062\n",
            "Epoch: 3/10 [Batch: 30000/50000 (60%)]\tLoss: 1.473297\n",
            "Epoch: 3/10 [Batch: 40000/50000 (80%)]\tLoss: 1.248842\n",
            "Epoch: 3/10 [Batch: 50000/50000 (100%)]\tLoss: 1.375444\n",
            "Epoch: 4/10 [Batch: 10000/50000 (20%)]\tLoss: 1.539607\n",
            "Epoch: 4/10 [Batch: 20000/50000 (40%)]\tLoss: 1.452272\n",
            "Epoch: 4/10 [Batch: 30000/50000 (60%)]\tLoss: 1.448867\n",
            "Epoch: 4/10 [Batch: 40000/50000 (80%)]\tLoss: 1.326008\n",
            "Epoch: 4/10 [Batch: 50000/50000 (100%)]\tLoss: 1.528908\n",
            "Epoch: 5/10 [Batch: 10000/50000 (20%)]\tLoss: 1.432323\n",
            "Epoch: 5/10 [Batch: 20000/50000 (40%)]\tLoss: 1.216753\n",
            "Epoch: 5/10 [Batch: 30000/50000 (60%)]\tLoss: 1.533282\n",
            "Epoch: 5/10 [Batch: 40000/50000 (80%)]\tLoss: 1.422818\n",
            "Epoch: 5/10 [Batch: 50000/50000 (100%)]\tLoss: 1.409254\n",
            "Epoch: 6/10 [Batch: 10000/50000 (20%)]\tLoss: 1.445814\n",
            "Epoch: 6/10 [Batch: 20000/50000 (40%)]\tLoss: 1.342880\n",
            "Epoch: 6/10 [Batch: 30000/50000 (60%)]\tLoss: 1.525958\n",
            "Epoch: 6/10 [Batch: 40000/50000 (80%)]\tLoss: 1.431715\n",
            "Epoch: 6/10 [Batch: 50000/50000 (100%)]\tLoss: 1.316404\n",
            "Epoch: 7/10 [Batch: 10000/50000 (20%)]\tLoss: 1.144156\n",
            "Epoch: 7/10 [Batch: 20000/50000 (40%)]\tLoss: 1.118805\n",
            "Epoch: 7/10 [Batch: 30000/50000 (60%)]\tLoss: 1.267522\n",
            "Epoch: 7/10 [Batch: 40000/50000 (80%)]\tLoss: 1.151852\n",
            "Epoch: 7/10 [Batch: 50000/50000 (100%)]\tLoss: 1.290665\n",
            "Epoch: 8/10 [Batch: 10000/50000 (20%)]\tLoss: 1.392779\n",
            "Epoch: 8/10 [Batch: 20000/50000 (40%)]\tLoss: 1.144426\n",
            "Epoch: 8/10 [Batch: 30000/50000 (60%)]\tLoss: 1.142717\n",
            "Epoch: 8/10 [Batch: 40000/50000 (80%)]\tLoss: 1.247062\n",
            "Epoch: 8/10 [Batch: 50000/50000 (100%)]\tLoss: 1.453298\n",
            "Epoch: 9/10 [Batch: 10000/50000 (20%)]\tLoss: 1.123607\n",
            "Epoch: 9/10 [Batch: 20000/50000 (40%)]\tLoss: 1.485599\n",
            "Epoch: 9/10 [Batch: 30000/50000 (60%)]\tLoss: 1.229701\n",
            "Epoch: 9/10 [Batch: 40000/50000 (80%)]\tLoss: 1.365828\n",
            "Epoch: 9/10 [Batch: 50000/50000 (100%)]\tLoss: 1.246860\n",
            "Epoch: 10/10 [Batch: 10000/50000 (20%)]\tLoss: 1.442385\n",
            "Epoch: 10/10 [Batch: 20000/50000 (40%)]\tLoss: 1.284320\n",
            "Epoch: 10/10 [Batch: 30000/50000 (60%)]\tLoss: 1.314914\n",
            "Epoch: 10/10 [Batch: 40000/50000 (80%)]\tLoss: 1.070150\n",
            "Epoch: 10/10 [Batch: 50000/50000 (100%)]\tLoss: 1.366385\n"
          ]
        }
      ]
    },
    {
      "cell_type": "code",
      "source": [
        "#PLOT THE LEARNING CURVE\n",
        "iterations = np.linspace(0,epoch,num_of_batch*epoch)\n",
        "plt.plot(iterations, loss_values)\n",
        "plt.title('Learning Curve')\n",
        "plt.xlabel('Epoch')\n",
        "plt.ylabel('Loss')\n",
        "plt.grid('on')\n",
        "plt.savefig('drive/MyDrive/583_HW7/Q6.png')"
      ],
      "metadata": {
        "id": "TU3jFiHhXrH-",
        "colab": {
          "base_uri": "https://localhost:8080/",
          "height": 295
        },
        "outputId": "c5f984ce-9987-4402-d116-9dd07ba58abf"
      },
      "execution_count": null,
      "outputs": [
        {
          "output_type": "display_data",
          "data": {
            "image/png": "[encoded data removed]",
            "text/plain": [
              "<Figure size 432x288 with 1 Axes>"
            ]
          },
          "metadata": {
            "needs_background": "light"
          }
        }
      ]
    },
    {
      "cell_type": "code",
      "source": [
        "#TEST THE MODEL\n",
        "model.eval()\n",
        "correct=0\n",
        "total=0\n",
        "\n",
        "for x_val, y_val in test_generator:\n",
        "  x_val = x_val.to(device)\n",
        "  y_val = y_val.to(device)\n",
        "\n",
        "  output = model(x_val)\n",
        "  y_pred = output.argmax(dim=1)\n",
        "\n",
        "  for i in range(y_pred.shape[0]):\n",
        "    if y_val[i]==y_pred[i]:\n",
        "      correct += 1\n",
        "    total +=1\n",
        "\n",
        "print('Validation accuracy: %.2f%%' %((100*correct)//(total)))  "
      ],
      "metadata": {
        "id": "bHfpHovhXu1e",
        "colab": {
          "base_uri": "https://localhost:8080/"
        },
        "outputId": "0ecf6467-6c76-41d3-ae9d-c985207621ac"
      },
      "execution_count": null,
      "outputs": [
        {
          "output_type": "stream",
          "name": "stdout",
          "text": [
            "Validation accuracy: 55.00%\n"
          ]
        }
      ]
    },
    {
      "cell_type": "markdown",
      "source": [
        "**Previous experiment showed that pooling layers are useful for the network. Adding one extra convolutional layer increased the number of layers in the network, hence would normally increase the capability of fitting more complex functions. However, with this $3^{rd}$ convolutional layer, the weights of the network significanly decreased to half, hence we cannot deduce a meaningful conclusion from this experiment. Instead one can try more convolutional layers and more units in FCLs.**"
      ],
      "metadata": {
        "id": "0_nD3RcNYR5A"
      }
    },
    {
      "cell_type": "markdown",
      "source": [
        "## Q7\n",
        "### Increase the output size of the first convolutional layer"
      ],
      "metadata": {
        "id": "6kLo2GLLYl5W"
      }
    },
    {
      "cell_type": "code",
      "source": [
        "#DEFINE NEURAL NETWORK MODEL\n",
        "class CNNQ7(torch.nn.Module):\n",
        "  def __init__(self):\n",
        "    super(CNNQ7, self).__init__()\n",
        "    self.conv1 = torch.nn.Conv2d(3, 32, kernel_size = 4, stride = 1)\n",
        "    self.conv2 = torch.nn.Conv2d(32, 64, kernel_size = 4, stride = 1)\n",
        "    self.conv3 = torch.nn.Conv2d(64, 32, kernel_size = 4, stride = 1)\n",
        "    self.mpool = torch.nn.MaxPool2d(2)\n",
        "    self.fc1 = torch.nn.Linear(128, 1024)\n",
        "    self.fc2 = torch.nn.Linear(1024, 256)    \n",
        "    self.fc3 = torch.nn.Linear(256, 10)\n",
        "    self.relu = torch.nn.ReLU()\n",
        "    self.sigmoid = torch.nn.Sigmoid()\n",
        "    self.drop = torch.nn.Dropout(0.1)\n",
        "  def forward(self, x):\n",
        "    hidden = self.mpool(self.relu(self.conv1(x)))\n",
        "    hidden = self.mpool(self.relu(self.conv2(hidden)))\n",
        "    hidden = (self.relu(self.conv3(hidden)))\n",
        "    hidden = hidden.view(-1,128)\n",
        "    hidden = self.relu(self.fc1(hidden))\n",
        "    hidden = self.relu(self.fc2(hidden))\n",
        "    output = self.fc3(hidden)\n",
        "    return output"
      ],
      "metadata": {
        "id": "9IpzzeimYWZE"
      },
      "execution_count": null,
      "outputs": []
    },
    {
      "cell_type": "code",
      "source": [
        "#CREATE MODEL\n",
        "model = CNNQ7()\n",
        "model.to(device)\n",
        "\n",
        "#DEFINE LOSS FUNCTION AND OPTIMIZER\n",
        "learning_rate = 0.001\n",
        "\n",
        "loss_fun = torch.nn.CrossEntropyLoss()\n",
        "optimizer = torch.optim.Adam(model.parameters(), lr = learning_rate)\n",
        "\n",
        "# SUMMARY\n",
        "summary(model,(3,32,32))\n"
      ],
      "metadata": {
        "id": "lXtWMFP4YDMJ",
        "colab": {
          "base_uri": "https://localhost:8080/"
        },
        "outputId": "42750adc-9c9f-4e37-f533-18ecfbde62c0"
      },
      "execution_count": null,
      "outputs": [
        {
          "output_type": "stream",
          "name": "stdout",
          "text": [
            "----------------------------------------------------------------\n",
            "        Layer (type)               Output Shape         Param #\n",
            "================================================================\n",
            "            Conv2d-1           [-1, 32, 29, 29]           1,568\n",
            "              ReLU-2           [-1, 32, 29, 29]               0\n",
            "         MaxPool2d-3           [-1, 32, 14, 14]               0\n",
            "            Conv2d-4           [-1, 64, 11, 11]          32,832\n",
            "              ReLU-5           [-1, 64, 11, 11]               0\n",
            "         MaxPool2d-6             [-1, 64, 5, 5]               0\n",
            "            Conv2d-7             [-1, 32, 2, 2]          32,800\n",
            "              ReLU-8             [-1, 32, 2, 2]               0\n",
            "            Linear-9                 [-1, 1024]         132,096\n",
            "             ReLU-10                 [-1, 1024]               0\n",
            "           Linear-11                  [-1, 256]         262,400\n",
            "             ReLU-12                  [-1, 256]               0\n",
            "           Linear-13                   [-1, 10]           2,570\n",
            "================================================================\n",
            "Total params: 464,266\n",
            "Trainable params: 464,266\n",
            "Non-trainable params: 0\n",
            "----------------------------------------------------------------\n",
            "Input size (MB): 0.01\n",
            "Forward/backward pass size (MB): 0.61\n",
            "Params size (MB): 1.77\n",
            "Estimated Total Size (MB): 2.39\n",
            "----------------------------------------------------------------\n"
          ]
        }
      ]
    },
    {
      "cell_type": "code",
      "source": [
        "#TRAIN THE MODEL\n",
        "model.train()\n",
        "epoch = 10\n",
        "\n",
        "num_of_batch=np.int(len(train_generator.dataset)/batch_size)\n",
        "\n",
        "loss_values = np.zeros(epoch*num_of_batch)\n",
        "for i in range(epoch):\n",
        "  for batch_idx, (x_train, y_train) in enumerate(train_generator):\n",
        "    x_train, y_train = x_train.to(device), y_train.to(device)\n",
        "    optimizer.zero_grad()\n",
        "    y_pred = model(x_train)\n",
        "    loss = loss_fun(y_pred, y_train)\n",
        "    loss_values[num_of_batch*i+batch_idx] = loss.item()\n",
        "    loss.backward()\n",
        "    optimizer.step()\n",
        "    if (batch_idx+1) % batch_size == 0:\n",
        "        print('Epoch: {}/{} [Batch: {}/{} ({:.0f}%)]\\tLoss: {:.6f}'.format(\n",
        "            i+1, epoch, (batch_idx+1) * len(x_train), len(train_generator.dataset),\n",
        "            100. * (batch_idx+1) / len(train_generator), loss.item()))    "
      ],
      "metadata": {
        "id": "lS3UwqwcYybo",
        "colab": {
          "base_uri": "https://localhost:8080/"
        },
        "outputId": "835a0c62-5159-48db-bc50-d9a442093fa3"
      },
      "execution_count": null,
      "outputs": [
        {
          "output_type": "stream",
          "name": "stdout",
          "text": [
            "Epoch: 1/10 [Batch: 10000/50000 (20%)]\tLoss: 1.867347\n",
            "Epoch: 1/10 [Batch: 20000/50000 (40%)]\tLoss: 1.461807\n",
            "Epoch: 1/10 [Batch: 30000/50000 (60%)]\tLoss: 1.482144\n",
            "Epoch: 1/10 [Batch: 40000/50000 (80%)]\tLoss: 1.393044\n",
            "Epoch: 1/10 [Batch: 50000/50000 (100%)]\tLoss: 1.518363\n",
            "Epoch: 2/10 [Batch: 10000/50000 (20%)]\tLoss: 1.452963\n",
            "Epoch: 2/10 [Batch: 20000/50000 (40%)]\tLoss: 1.290976\n",
            "Epoch: 2/10 [Batch: 30000/50000 (60%)]\tLoss: 1.135127\n",
            "Epoch: 2/10 [Batch: 40000/50000 (80%)]\tLoss: 1.257475\n",
            "Epoch: 2/10 [Batch: 50000/50000 (100%)]\tLoss: 1.210437\n",
            "Epoch: 3/10 [Batch: 10000/50000 (20%)]\tLoss: 1.235606\n",
            "Epoch: 3/10 [Batch: 20000/50000 (40%)]\tLoss: 1.298739\n",
            "Epoch: 3/10 [Batch: 30000/50000 (60%)]\tLoss: 1.053390\n",
            "Epoch: 3/10 [Batch: 40000/50000 (80%)]\tLoss: 1.167737\n",
            "Epoch: 3/10 [Batch: 50000/50000 (100%)]\tLoss: 1.064261\n",
            "Epoch: 4/10 [Batch: 10000/50000 (20%)]\tLoss: 0.997144\n",
            "Epoch: 4/10 [Batch: 20000/50000 (40%)]\tLoss: 1.166536\n",
            "Epoch: 4/10 [Batch: 30000/50000 (60%)]\tLoss: 1.001357\n",
            "Epoch: 4/10 [Batch: 40000/50000 (80%)]\tLoss: 0.896586\n",
            "Epoch: 4/10 [Batch: 50000/50000 (100%)]\tLoss: 1.036403\n",
            "Epoch: 5/10 [Batch: 10000/50000 (20%)]\tLoss: 0.822211\n",
            "Epoch: 5/10 [Batch: 20000/50000 (40%)]\tLoss: 1.008645\n",
            "Epoch: 5/10 [Batch: 30000/50000 (60%)]\tLoss: 1.085580\n",
            "Epoch: 5/10 [Batch: 40000/50000 (80%)]\tLoss: 1.000163\n",
            "Epoch: 5/10 [Batch: 50000/50000 (100%)]\tLoss: 0.996731\n",
            "Epoch: 6/10 [Batch: 10000/50000 (20%)]\tLoss: 0.596479\n",
            "Epoch: 6/10 [Batch: 20000/50000 (40%)]\tLoss: 0.890222\n",
            "Epoch: 6/10 [Batch: 30000/50000 (60%)]\tLoss: 1.112347\n",
            "Epoch: 6/10 [Batch: 40000/50000 (80%)]\tLoss: 0.890724\n",
            "Epoch: 6/10 [Batch: 50000/50000 (100%)]\tLoss: 1.186765\n",
            "Epoch: 7/10 [Batch: 10000/50000 (20%)]\tLoss: 0.753974\n",
            "Epoch: 7/10 [Batch: 20000/50000 (40%)]\tLoss: 1.122337\n",
            "Epoch: 7/10 [Batch: 30000/50000 (60%)]\tLoss: 0.669767\n",
            "Epoch: 7/10 [Batch: 40000/50000 (80%)]\tLoss: 0.670036\n",
            "Epoch: 7/10 [Batch: 50000/50000 (100%)]\tLoss: 0.990399\n",
            "Epoch: 8/10 [Batch: 10000/50000 (20%)]\tLoss: 0.890396\n",
            "Epoch: 8/10 [Batch: 20000/50000 (40%)]\tLoss: 0.645241\n",
            "Epoch: 8/10 [Batch: 30000/50000 (60%)]\tLoss: 0.788386\n",
            "Epoch: 8/10 [Batch: 40000/50000 (80%)]\tLoss: 0.547218\n",
            "Epoch: 8/10 [Batch: 50000/50000 (100%)]\tLoss: 0.750539\n",
            "Epoch: 9/10 [Batch: 10000/50000 (20%)]\tLoss: 0.791921\n",
            "Epoch: 9/10 [Batch: 20000/50000 (40%)]\tLoss: 0.769445\n",
            "Epoch: 9/10 [Batch: 30000/50000 (60%)]\tLoss: 0.877653\n",
            "Epoch: 9/10 [Batch: 40000/50000 (80%)]\tLoss: 0.765645\n",
            "Epoch: 9/10 [Batch: 50000/50000 (100%)]\tLoss: 0.905367\n",
            "Epoch: 10/10 [Batch: 10000/50000 (20%)]\tLoss: 0.690852\n",
            "Epoch: 10/10 [Batch: 20000/50000 (40%)]\tLoss: 0.613525\n",
            "Epoch: 10/10 [Batch: 30000/50000 (60%)]\tLoss: 0.750566\n",
            "Epoch: 10/10 [Batch: 40000/50000 (80%)]\tLoss: 0.722573\n",
            "Epoch: 10/10 [Batch: 50000/50000 (100%)]\tLoss: 0.645704\n"
          ]
        }
      ]
    },
    {
      "cell_type": "code",
      "source": [
        "#PLOT THE LEARNING CURVE\n",
        "iterations = np.linspace(0,epoch,num_of_batch*epoch)\n",
        "plt.plot(iterations, loss_values)\n",
        "plt.title('Learning Curve')\n",
        "plt.xlabel('Epoch')\n",
        "plt.ylabel('Loss')\n",
        "plt.grid('on')\n",
        "plt.savefig('drive/MyDrive/583_HW7/Q7.png')"
      ],
      "metadata": {
        "id": "NFo7ZmZSZVbT",
        "colab": {
          "base_uri": "https://localhost:8080/",
          "height": 295
        },
        "outputId": "f5c622cc-a0ee-4e66-ba1c-7a9e57dba6de"
      },
      "execution_count": null,
      "outputs": [
        {
          "output_type": "display_data",
          "data": {
            "image/png": "[encoded data removed]",
            "text/plain": [
              "<Figure size 432x288 with 1 Axes>"
            ]
          },
          "metadata": {
            "needs_background": "light"
          }
        }
      ]
    },
    {
      "cell_type": "code",
      "source": [
        "#TEST THE MODEL\n",
        "model.eval()\n",
        "correct=0\n",
        "total=0\n",
        "\n",
        "for x_val, y_val in test_generator:\n",
        "  x_val = x_val.to(device)\n",
        "  y_val = y_val.to(device)\n",
        "\n",
        "  output = model(x_val)\n",
        "  y_pred = output.argmax(dim=1)\n",
        "\n",
        "  for i in range(y_pred.shape[0]):\n",
        "    if y_val[i]==y_pred[i]:\n",
        "      correct += 1\n",
        "    total +=1\n",
        "\n",
        "print('Validation accuracy: %.2f%%' %((100*correct)//(total)))  "
      ],
      "metadata": {
        "id": "NUYLNXPGZxXV",
        "colab": {
          "base_uri": "https://localhost:8080/"
        },
        "outputId": "9343c953-455d-4798-fc54-0a73832728bb"
      },
      "execution_count": null,
      "outputs": [
        {
          "output_type": "stream",
          "name": "stdout",
          "text": [
            "Validation accuracy: 68.00%\n"
          ]
        }
      ]
    },
    {
      "cell_type": "markdown",
      "source": [
        "**As proposed in the previous question, with a bigger network (with more parameters), the training loss significantly decreased even with respect to the network in Q6. And it resulted in an $13\\%$ increase in the validation accuracy.**"
      ],
      "metadata": {
        "id": "8bFpPM14Z3ot"
      }
    },
    {
      "cell_type": "markdown",
      "source": [
        "## Q8 \n",
        "### Free design "
      ],
      "metadata": {
        "id": "_mWVpMujaT8l"
      }
    },
    {
      "cell_type": "code",
      "source": [
        "#DEFINE NEURAL NETWORK MODEL\n",
        "class CNNQ8(torch.nn.Module):\n",
        "  def __init__(self):\n",
        "    super(CNNQ8, self).__init__()\n",
        "    self.conv1 = torch.nn.Conv2d(3, 32, kernel_size = 3, stride = 1)\n",
        "    self.conv2 = torch.nn.Conv2d(32, 64, kernel_size = 3, stride = 1)\n",
        "    self.conv3 = torch.nn.Conv2d(64, 128, kernel_size = 3, stride = 1)\n",
        "    self.conv4 = torch.nn.Conv2d(128, 128, kernel_size = 3, stride = 1)\n",
        "    self.conv5 = torch.nn.Conv2d(128, 256, kernel_size = 3, stride = 1)\n",
        "    self.conv6 = torch.nn.Conv2d(256, 256, kernel_size = 3, stride = 1)\n",
        "    self.mpool = torch.nn.MaxPool2d(2)\n",
        "    self.fc1 = torch.nn.Linear(3200, 4096)\n",
        "    self.fc2 = torch.nn.Linear(4096, 1024)    \n",
        "    self.fc3 = torch.nn.Linear(1024, 10)\n",
        "    self.relu = torch.nn.ReLU()\n",
        "    self.sigmoid = torch.nn.Sigmoid()\n",
        "    self.drop = torch.nn.Dropout(0.1)\n",
        "    self.conv2bn = torch.nn.BatchNorm2d(64)\n",
        "    self.conv4bn = torch.nn.BatchNorm2d(128)\n",
        "\n",
        "  def forward(self, x):\n",
        "    hidden = self.mpool(self.conv2bn(self.relu(self.conv2(self.relu(self.conv1(x))))))\n",
        "    hidden = self.mpool(self.conv4bn(self.relu(self.conv4(self.relu(self.conv3(hidden))))))\n",
        "    #hidden = self.mpool((self.relu(self.conv6(self.conv5(hidden)))))\n",
        "    hidden = hidden.view(-1,3200)\n",
        "    hidden = self.relu(self.fc1(self.drop(hidden)))\n",
        "    hidden = self.relu(self.fc2(self.drop(hidden)))\n",
        "    output = self.fc3(hidden)\n",
        "    return output"
      ],
      "metadata": {
        "id": "Aw_OfIlwZ1LU"
      },
      "execution_count": 172,
      "outputs": []
    },
    {
      "cell_type": "code",
      "source": [
        "#CREATE MODEL\n",
        "model = CNNQ8()\n",
        "model.to(device)\n",
        "\n",
        "# NEW IMPORT \n",
        "from torch.optim.lr_scheduler import ExponentialLR, ReduceLROnPlateau\n",
        "\n",
        "#DEFINE LOSS FUNCTION AND OPTIMIZER\n",
        "learning_rate = 0.001\n",
        "\n",
        "loss_fun = torch.nn.CrossEntropyLoss()\n",
        "optimizer = torch.optim.Adam(model.parameters(), lr = learning_rate, weight_decay=1e-5)\n",
        "scheduler = ExponentialLR(optimizer, gamma=0.1, verbose=True)\n",
        "\n",
        "# SUMMARY\n",
        "summary(model,(3,32,32))\n"
      ],
      "metadata": {
        "id": "7PY0RU1JaeJk",
        "colab": {
          "base_uri": "https://localhost:8080/",
          "height": 0
        },
        "outputId": "d402aeac-4783-4d90-9522-883db6b41273"
      },
      "execution_count": 173,
      "outputs": [
        {
          "output_type": "stream",
          "name": "stdout",
          "text": [
            "Adjusting learning rate of group 0 to 1.0000e-03.\n",
            "----------------------------------------------------------------\n",
            "        Layer (type)               Output Shape         Param #\n",
            "================================================================\n",
            "            Conv2d-1           [-1, 32, 30, 30]             896\n",
            "              ReLU-2           [-1, 32, 30, 30]               0\n",
            "            Conv2d-3           [-1, 64, 28, 28]          18,496\n",
            "              ReLU-4           [-1, 64, 28, 28]               0\n",
            "       BatchNorm2d-5           [-1, 64, 28, 28]             128\n",
            "         MaxPool2d-6           [-1, 64, 14, 14]               0\n",
            "            Conv2d-7          [-1, 128, 12, 12]          73,856\n",
            "              ReLU-8          [-1, 128, 12, 12]               0\n",
            "            Conv2d-9          [-1, 128, 10, 10]         147,584\n",
            "             ReLU-10          [-1, 128, 10, 10]               0\n",
            "      BatchNorm2d-11          [-1, 128, 10, 10]             256\n",
            "        MaxPool2d-12            [-1, 128, 5, 5]               0\n",
            "          Dropout-13                 [-1, 3200]               0\n",
            "           Linear-14                 [-1, 4096]      13,111,296\n",
            "             ReLU-15                 [-1, 4096]               0\n",
            "          Dropout-16                 [-1, 4096]               0\n",
            "           Linear-17                 [-1, 1024]       4,195,328\n",
            "             ReLU-18                 [-1, 1024]               0\n",
            "           Linear-19                   [-1, 10]          10,250\n",
            "================================================================\n",
            "Total params: 17,558,090\n",
            "Trainable params: 17,558,090\n",
            "Non-trainable params: 0\n",
            "----------------------------------------------------------------\n",
            "Input size (MB): 0.01\n",
            "Forward/backward pass size (MB): 2.42\n",
            "Params size (MB): 66.98\n",
            "Estimated Total Size (MB): 69.41\n",
            "----------------------------------------------------------------\n"
          ]
        }
      ]
    },
    {
      "cell_type": "code",
      "source": [
        "#TRAIN THE MODEL\n",
        "model.train()\n",
        "epoch = 20\n",
        "\n",
        "num_of_batch=np.int(len(train_generator.dataset)/batch_size)\n",
        "\n",
        "loss_values = np.zeros(epoch*num_of_batch)\n",
        "for i in range(epoch):\n",
        "  if i in [5, 12, 16]:\n",
        "    scheduler.step()\n",
        "  for batch_idx, (x_train, y_train) in enumerate(train_generator):\n",
        "    x_train, y_train = x_train.to(device), y_train.to(device)\n",
        "    optimizer.zero_grad()\n",
        "    y_pred = model(x_train)\n",
        "    loss = loss_fun(y_pred, y_train)\n",
        "    loss_values[num_of_batch*i+batch_idx] = loss.item()\n",
        "    loss.backward()\n",
        "    optimizer.step()\n",
        "    if (batch_idx+1) % batch_size == 0:\n",
        "        print('Epoch: {}/{} [Batch: {}/{} ({:.0f}%)]\\tLoss: {:.6f}'.format(\n",
        "            i+1, epoch, (batch_idx+1) * len(x_train), len(train_generator.dataset),\n",
        "            100. * (batch_idx+1) / len(train_generator), loss.item()))  \n"
      ],
      "metadata": {
        "id": "6akIzvJ5aht2",
        "colab": {
          "base_uri": "https://localhost:8080/",
          "height": 0
        },
        "outputId": "bd1e09a8-b9ac-4206-d582-d37ba8367d0f"
      },
      "execution_count": 174,
      "outputs": [
        {
          "output_type": "stream",
          "name": "stdout",
          "text": [
            "Epoch: 1/20 [Batch: 10000/50000 (20%)]\tLoss: 1.515501\n",
            "Epoch: 1/20 [Batch: 20000/50000 (40%)]\tLoss: 1.419433\n",
            "Epoch: 1/20 [Batch: 30000/50000 (60%)]\tLoss: 1.297556\n",
            "Epoch: 1/20 [Batch: 40000/50000 (80%)]\tLoss: 1.002507\n",
            "Epoch: 1/20 [Batch: 50000/50000 (100%)]\tLoss: 1.056283\n",
            "Epoch: 2/20 [Batch: 10000/50000 (20%)]\tLoss: 0.911783\n",
            "Epoch: 2/20 [Batch: 20000/50000 (40%)]\tLoss: 0.871352\n",
            "Epoch: 2/20 [Batch: 30000/50000 (60%)]\tLoss: 0.772256\n",
            "Epoch: 2/20 [Batch: 40000/50000 (80%)]\tLoss: 0.931136\n",
            "Epoch: 2/20 [Batch: 50000/50000 (100%)]\tLoss: 0.537306\n",
            "Epoch: 3/20 [Batch: 10000/50000 (20%)]\tLoss: 0.518227\n",
            "Epoch: 3/20 [Batch: 20000/50000 (40%)]\tLoss: 0.774560\n",
            "Epoch: 3/20 [Batch: 30000/50000 (60%)]\tLoss: 0.491370\n",
            "Epoch: 3/20 [Batch: 40000/50000 (80%)]\tLoss: 0.517129\n",
            "Epoch: 3/20 [Batch: 50000/50000 (100%)]\tLoss: 0.425729\n",
            "Epoch: 4/20 [Batch: 10000/50000 (20%)]\tLoss: 0.340072\n",
            "Epoch: 4/20 [Batch: 20000/50000 (40%)]\tLoss: 0.345048\n",
            "Epoch: 4/20 [Batch: 30000/50000 (60%)]\tLoss: 0.406142\n",
            "Epoch: 4/20 [Batch: 40000/50000 (80%)]\tLoss: 0.586911\n",
            "Epoch: 4/20 [Batch: 50000/50000 (100%)]\tLoss: 0.429337\n",
            "Epoch: 5/20 [Batch: 10000/50000 (20%)]\tLoss: 0.192711\n",
            "Epoch: 5/20 [Batch: 20000/50000 (40%)]\tLoss: 0.320740\n",
            "Epoch: 5/20 [Batch: 30000/50000 (60%)]\tLoss: 0.461353\n",
            "Epoch: 5/20 [Batch: 40000/50000 (80%)]\tLoss: 0.394040\n",
            "Epoch: 5/20 [Batch: 50000/50000 (100%)]\tLoss: 0.236936\n",
            "Adjusting learning rate of group 0 to 1.0000e-04.\n",
            "Epoch: 6/20 [Batch: 10000/50000 (20%)]\tLoss: 0.133901\n",
            "Epoch: 6/20 [Batch: 20000/50000 (40%)]\tLoss: 0.065184\n",
            "Epoch: 6/20 [Batch: 30000/50000 (60%)]\tLoss: 0.059485\n",
            "Epoch: 6/20 [Batch: 40000/50000 (80%)]\tLoss: 0.131645\n",
            "Epoch: 6/20 [Batch: 50000/50000 (100%)]\tLoss: 0.107893\n",
            "Epoch: 7/20 [Batch: 10000/50000 (20%)]\tLoss: 0.027405\n",
            "Epoch: 7/20 [Batch: 20000/50000 (40%)]\tLoss: 0.013605\n",
            "Epoch: 7/20 [Batch: 30000/50000 (60%)]\tLoss: 0.027041\n",
            "Epoch: 7/20 [Batch: 40000/50000 (80%)]\tLoss: 0.057117\n",
            "Epoch: 7/20 [Batch: 50000/50000 (100%)]\tLoss: 0.015393\n",
            "Epoch: 8/20 [Batch: 10000/50000 (20%)]\tLoss: 0.029922\n",
            "Epoch: 8/20 [Batch: 20000/50000 (40%)]\tLoss: 0.010794\n",
            "Epoch: 8/20 [Batch: 30000/50000 (60%)]\tLoss: 0.009067\n",
            "Epoch: 8/20 [Batch: 40000/50000 (80%)]\tLoss: 0.018730\n",
            "Epoch: 8/20 [Batch: 50000/50000 (100%)]\tLoss: 0.006877\n",
            "Epoch: 9/20 [Batch: 10000/50000 (20%)]\tLoss: 0.007529\n",
            "Epoch: 9/20 [Batch: 20000/50000 (40%)]\tLoss: 0.034778\n",
            "Epoch: 9/20 [Batch: 30000/50000 (60%)]\tLoss: 0.011480\n",
            "Epoch: 9/20 [Batch: 40000/50000 (80%)]\tLoss: 0.009583\n",
            "Epoch: 9/20 [Batch: 50000/50000 (100%)]\tLoss: 0.028255\n",
            "Epoch: 10/20 [Batch: 10000/50000 (20%)]\tLoss: 0.004036\n",
            "Epoch: 10/20 [Batch: 20000/50000 (40%)]\tLoss: 0.008029\n",
            "Epoch: 10/20 [Batch: 30000/50000 (60%)]\tLoss: 0.007810\n",
            "Epoch: 10/20 [Batch: 40000/50000 (80%)]\tLoss: 0.009471\n",
            "Epoch: 10/20 [Batch: 50000/50000 (100%)]\tLoss: 0.004101\n",
            "Epoch: 11/20 [Batch: 10000/50000 (20%)]\tLoss: 0.002351\n",
            "Epoch: 11/20 [Batch: 20000/50000 (40%)]\tLoss: 0.006347\n",
            "Epoch: 11/20 [Batch: 30000/50000 (60%)]\tLoss: 0.003042\n",
            "Epoch: 11/20 [Batch: 40000/50000 (80%)]\tLoss: 0.006736\n",
            "Epoch: 11/20 [Batch: 50000/50000 (100%)]\tLoss: 0.006071\n",
            "Epoch: 12/20 [Batch: 10000/50000 (20%)]\tLoss: 0.022980\n",
            "Epoch: 12/20 [Batch: 20000/50000 (40%)]\tLoss: 0.003312\n",
            "Epoch: 12/20 [Batch: 30000/50000 (60%)]\tLoss: 0.003654\n",
            "Epoch: 12/20 [Batch: 40000/50000 (80%)]\tLoss: 0.002607\n",
            "Epoch: 12/20 [Batch: 50000/50000 (100%)]\tLoss: 0.005876\n",
            "Adjusting learning rate of group 0 to 1.0000e-05.\n",
            "Epoch: 13/20 [Batch: 10000/50000 (20%)]\tLoss: 0.001097\n",
            "Epoch: 13/20 [Batch: 20000/50000 (40%)]\tLoss: 0.002119\n",
            "Epoch: 13/20 [Batch: 30000/50000 (60%)]\tLoss: 0.001296\n",
            "Epoch: 13/20 [Batch: 40000/50000 (80%)]\tLoss: 0.002892\n",
            "Epoch: 13/20 [Batch: 50000/50000 (100%)]\tLoss: 0.001395\n",
            "Epoch: 14/20 [Batch: 10000/50000 (20%)]\tLoss: 0.002301\n",
            "Epoch: 14/20 [Batch: 20000/50000 (40%)]\tLoss: 0.002234\n",
            "Epoch: 14/20 [Batch: 30000/50000 (60%)]\tLoss: 0.000866\n",
            "Epoch: 14/20 [Batch: 40000/50000 (80%)]\tLoss: 0.001604\n",
            "Epoch: 14/20 [Batch: 50000/50000 (100%)]\tLoss: 0.000824\n",
            "Epoch: 15/20 [Batch: 10000/50000 (20%)]\tLoss: 0.000675\n",
            "Epoch: 15/20 [Batch: 20000/50000 (40%)]\tLoss: 0.003404\n",
            "Epoch: 15/20 [Batch: 30000/50000 (60%)]\tLoss: 0.003100\n",
            "Epoch: 15/20 [Batch: 40000/50000 (80%)]\tLoss: 0.001102\n",
            "Epoch: 15/20 [Batch: 50000/50000 (100%)]\tLoss: 0.002950\n",
            "Epoch: 16/20 [Batch: 10000/50000 (20%)]\tLoss: 0.001383\n",
            "Epoch: 16/20 [Batch: 20000/50000 (40%)]\tLoss: 0.001638\n",
            "Epoch: 16/20 [Batch: 30000/50000 (60%)]\tLoss: 0.000955\n",
            "Epoch: 16/20 [Batch: 40000/50000 (80%)]\tLoss: 0.000966\n",
            "Epoch: 16/20 [Batch: 50000/50000 (100%)]\tLoss: 0.002745\n",
            "Adjusting learning rate of group 0 to 1.0000e-06.\n",
            "Epoch: 17/20 [Batch: 10000/50000 (20%)]\tLoss: 0.003343\n",
            "Epoch: 17/20 [Batch: 20000/50000 (40%)]\tLoss: 0.003922\n",
            "Epoch: 17/20 [Batch: 30000/50000 (60%)]\tLoss: 0.001207\n",
            "Epoch: 17/20 [Batch: 40000/50000 (80%)]\tLoss: 0.001179\n",
            "Epoch: 17/20 [Batch: 50000/50000 (100%)]\tLoss: 0.001445\n",
            "Epoch: 18/20 [Batch: 10000/50000 (20%)]\tLoss: 0.000861\n",
            "Epoch: 18/20 [Batch: 20000/50000 (40%)]\tLoss: 0.002336\n",
            "Epoch: 18/20 [Batch: 30000/50000 (60%)]\tLoss: 0.001741\n",
            "Epoch: 18/20 [Batch: 40000/50000 (80%)]\tLoss: 0.043052\n",
            "Epoch: 18/20 [Batch: 50000/50000 (100%)]\tLoss: 0.001661\n",
            "Epoch: 19/20 [Batch: 10000/50000 (20%)]\tLoss: 0.001674\n",
            "Epoch: 19/20 [Batch: 20000/50000 (40%)]\tLoss: 0.000358\n",
            "Epoch: 19/20 [Batch: 30000/50000 (60%)]\tLoss: 0.014443\n",
            "Epoch: 19/20 [Batch: 40000/50000 (80%)]\tLoss: 0.000468\n",
            "Epoch: 19/20 [Batch: 50000/50000 (100%)]\tLoss: 0.002988\n",
            "Epoch: 20/20 [Batch: 10000/50000 (20%)]\tLoss: 0.000919\n",
            "Epoch: 20/20 [Batch: 20000/50000 (40%)]\tLoss: 0.000984\n",
            "Epoch: 20/20 [Batch: 30000/50000 (60%)]\tLoss: 0.001530\n",
            "Epoch: 20/20 [Batch: 40000/50000 (80%)]\tLoss: 0.001313\n",
            "Epoch: 20/20 [Batch: 50000/50000 (100%)]\tLoss: 0.000280\n"
          ]
        }
      ]
    },
    {
      "cell_type": "code",
      "source": [
        "#PLOT THE LEARNING CURVE\n",
        "iterations = np.linspace(0,epoch,num_of_batch*epoch)\n",
        "plt.plot(iterations, loss_values)\n",
        "plt.title('Learning Curve')\n",
        "plt.xlabel('Epoch')\n",
        "plt.ylabel('Loss')\n",
        "plt.grid('on')\n",
        "plt.savefig('drive/MyDrive/583_HW7/Q8.png')"
      ],
      "metadata": {
        "id": "7eOITgiLaj6p",
        "colab": {
          "base_uri": "https://localhost:8080/",
          "height": 295
        },
        "outputId": "5e60d0d0-bc05-4fd2-c65a-9e7e69ad65ff"
      },
      "execution_count": 175,
      "outputs": [
        {
          "output_type": "display_data",
          "data": {
            "image/png": "[encoded data removed]",
            "text/plain": [
              "<Figure size 432x288 with 1 Axes>"
            ]
          },
          "metadata": {
            "needs_background": "light"
          }
        }
      ]
    },
    {
      "cell_type": "code",
      "source": [
        "#TEST THE MODEL\n",
        "model.eval()\n",
        "correct=0\n",
        "total=0\n",
        "\n",
        "for x_val, y_val in test_generator:\n",
        "  x_val = x_val.to(device)\n",
        "  y_val = y_val.to(device)\n",
        "\n",
        "  output = model(x_val)\n",
        "  y_pred = output.argmax(dim=1)\n",
        "\n",
        "  for i in range(y_pred.shape[0]):\n",
        "    if y_val[i]==y_pred[i]:\n",
        "      correct += 1\n",
        "    total +=1\n",
        "\n",
        "print('Validation accuracy: %.2f%%' %((100*correct)//(total)))  "
      ],
      "metadata": {
        "id": "4Nx2Ux_QalZM",
        "colab": {
          "base_uri": "https://localhost:8080/",
          "height": 0
        },
        "outputId": "de66d398-3aa7-4a72-c985-717fb72bf243"
      },
      "execution_count": 176,
      "outputs": [
        {
          "output_type": "stream",
          "name": "stdout",
          "text": [
            "Validation accuracy: 80.00%\n"
          ]
        }
      ]
    },
    {
      "cell_type": "markdown",
      "source": [
        "**With the introduction of Learning Rate Scheduler, Dropout and Batchnorm Layers to the network, it is able to achieve $80\\%$ validation accuracy after 20 epochs.**"
      ],
      "metadata": {
        "id": "nnOYFL8RcHAm"
      }
    }
  ]
}